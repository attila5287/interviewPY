{
 "cells": [
  {
   "cell_type": "code",
   "execution_count": 95,
   "metadata": {
    "ExecuteTime": {
     "end_time": "2019-04-23T11:35:26.846993Z",
     "start_time": "2019-04-23T11:35:26.831379Z"
    }
   },
   "outputs": [],
   "source": [
    "import warnings\n",
    "warnings.filterwarnings('ignore')"
   ]
  },
  {
   "cell_type": "code",
   "execution_count": 96,
   "metadata": {
    "ExecuteTime": {
     "end_time": "2019-04-23T11:35:27.050104Z",
     "start_time": "2019-04-23T11:35:27.034478Z"
    }
   },
   "outputs": [],
   "source": [
    "import os\n",
    "import pandas as pd\n",
    "import datetime as dt"
   ]
  },
  {
   "cell_type": "code",
   "execution_count": 99,
   "metadata": {
    "ExecuteTime": {
     "end_time": "2019-04-23T11:35:47.705025Z",
     "start_time": "2019-04-23T11:35:47.689405Z"
    }
   },
   "outputs": [],
   "source": [
    "from matplotlib import pyplot as plt\n",
    "plt.style.use('fivethirtyeight')"
   ]
  },
  {
   "cell_type": "code",
   "execution_count": 98,
   "metadata": {
    "ExecuteTime": {
     "end_time": "2019-04-23T11:35:27.518823Z",
     "start_time": "2019-04-23T11:35:27.503213Z"
    }
   },
   "outputs": [],
   "source": [
    "def csvToDataframe(FILE_NAME='fire_county_data.csv', STATIC_FOLDER=''):\n",
    "    \"\"\" RETURNS PANDAS DATAFRAME, REQUIRES FILENAME WITH .CSV EXTENSION \n",
    "    ALSO STATIC_FOLDER IF ANY DEFAULT NONE \"\"\"\n",
    "    BASE_DIR = os.getcwd()\n",
    "    PATH_COMPILED = os.path.join(BASE_DIR, STATIC_FOLDER, FILE_NAME)\n",
    "    _df = pd.read_csv(PATH_COMPILED, encoding=\"iso-8859-1\", low_memory=False)\n",
    "    return _df"
   ]
  },
  {
   "cell_type": "code",
   "execution_count": 80,
   "metadata": {
    "ExecuteTime": {
     "end_time": "2019-04-23T11:07:19.457716Z",
     "start_time": "2019-04-23T11:07:19.442094Z"
    }
   },
   "outputs": [],
   "source": [
    "# csvToDataframe()"
   ]
  },
  {
   "cell_type": "code",
   "execution_count": 15,
   "metadata": {
    "ExecuteTime": {
     "end_time": "2019-04-23T10:07:24.883584Z",
     "start_time": "2019-04-23T10:07:24.868012Z"
    }
   },
   "outputs": [],
   "source": [
    "def describeFireData(DESC_FILE_NAME = 'fire_data_description.csv'):\n",
    "    desc_fire_df = pandaFramer(DESC_FILE_NAME)\n",
    "    dict_keys = desc_fire_df['Column Heading']\n",
    "    dict_values = desc_fire_df['Value Description']\n",
    "    _dict = dict(zip(dict_keys, dict_values))\n",
    "    print(_dict)\n",
    "    return _dict"
   ]
  },
  {
   "cell_type": "code",
   "execution_count": 81,
   "metadata": {
    "ExecuteTime": {
     "end_time": "2019-04-23T11:07:22.473118Z",
     "start_time": "2019-04-23T11:07:22.457496Z"
    }
   },
   "outputs": [],
   "source": [
    "# describeFireData()"
   ]
  },
  {
   "cell_type": "code",
   "execution_count": 90,
   "metadata": {
    "ExecuteTime": {
     "end_time": "2019-04-23T11:10:28.811339Z",
     "start_time": "2019-04-23T11:10:28.795718Z"
    }
   },
   "outputs": [],
   "source": [
    "def ctgryResptimeDataFramer(FIRE_DATA_FILENAME = 'fire_county_data.csv'):\n",
    "    fire_df = pandaFramer(FIRE_DATA_FILENAME)\n",
    "    responseTime_df = fire_df[[\n",
    "        'Property Use Category',\n",
    "        'Total First Unit Response Time'\n",
    "    ]].dropna()\n",
    "    responseTime_df['responseTime'] = responseTime_df['Total First Unit Response Time']\n",
    "    responseTime_df.drop(columns='Total First Unit Response Time', inplace=True)\n",
    "\n",
    "    # groupby -> mean doesnot work yet. dtype is non-numeric\n",
    "    responseTime_df['responseSumSeconds'] = [ int(int(dt.datetime.strptime(response,'%H:%M:%S').hour)*3600 + int(dt.datetime.strptime(response,'%H:%M:%S').minute)*60 + int(dt.datetime.strptime(response,'%H:%M:%S').second))\n",
    "        for response in responseTime_df['responseTime']\n",
    "    ]\n",
    "    resPrpCtgFocused_df = responseTime_df.groupby('Property Use Category').mean().__round__(0)\n",
    "    resPrpCtgFocused_df['responseSumSeconds'] = [int(second) \n",
    "                                                 for second in resPrpCtgFocused_df['responseSumSeconds']\n",
    "                                                ]\n",
    "    resPrpCtgFocused_df.sort_values(by= ['responseSumSeconds'], ascending=False, inplace=True)\n",
    "    _df = resPrpCtgFocused_df.copy()\n",
    "    keys_list = [str(column) for column in list(_df.columns)]\n",
    "    values_list = [_df[column] for column in keys_list]\n",
    "    _dict = dict(zip(keys_list, values_list))\n",
    "    print(_dict)\n",
    "    return _df"
   ]
  },
  {
   "cell_type": "code",
   "execution_count": 91,
   "metadata": {
    "ExecuteTime": {
     "end_time": "2019-04-23T11:10:29.655029Z",
     "start_time": "2019-04-23T11:10:28.983256Z"
    }
   },
   "outputs": [
    {
     "name": "stdout",
     "output_type": "stream",
     "text": [
      "{'Other': responseSumSeconds    458\n",
      "Name: Other, dtype: int64, 'Storage': responseSumSeconds    412\n",
      "Name: Storage, dtype: int64, 'Manufacturing': responseSumSeconds    402\n",
      "Name: Manufacturing, dtype: int64, 'Assembly': responseSumSeconds    380\n",
      "Name: Assembly, dtype: int64, 'Educational': responseSumSeconds    345\n",
      "Name: Educational, dtype: int64, 'Residential': responseSumSeconds    338\n",
      "Name: Residential, dtype: int64, 'Outside': responseSumSeconds    302\n",
      "Name: Outside, dtype: int64, 'Business': responseSumSeconds    291\n",
      "Name: Business, dtype: int64, 'Health Care or Detention': responseSumSeconds    275\n",
      "Name: Health Care or Detention, dtype: int64, 'Industrial': responseSumSeconds    251\n",
      "Name: Industrial, dtype: int64}\n"
     ]
    },
    {
     "data": {
      "text/html": [
       "<div>\n",
       "<style scoped>\n",
       "    .dataframe tbody tr th:only-of-type {\n",
       "        vertical-align: middle;\n",
       "    }\n",
       "\n",
       "    .dataframe tbody tr th {\n",
       "        vertical-align: top;\n",
       "    }\n",
       "\n",
       "    .dataframe thead th {\n",
       "        text-align: right;\n",
       "    }\n",
       "</style>\n",
       "<table border=\"1\" class=\"dataframe\">\n",
       "  <thead>\n",
       "    <tr style=\"text-align: right;\">\n",
       "      <th>Property Use Category</th>\n",
       "      <th>Other</th>\n",
       "      <th>Storage</th>\n",
       "      <th>Manufacturing</th>\n",
       "      <th>Assembly</th>\n",
       "      <th>Educational</th>\n",
       "      <th>Residential</th>\n",
       "      <th>Outside</th>\n",
       "      <th>Business</th>\n",
       "      <th>Health Care or Detention</th>\n",
       "      <th>Industrial</th>\n",
       "    </tr>\n",
       "  </thead>\n",
       "  <tbody>\n",
       "    <tr>\n",
       "      <th>responseSumSeconds</th>\n",
       "      <td>458</td>\n",
       "      <td>412</td>\n",
       "      <td>402</td>\n",
       "      <td>380</td>\n",
       "      <td>345</td>\n",
       "      <td>338</td>\n",
       "      <td>302</td>\n",
       "      <td>291</td>\n",
       "      <td>275</td>\n",
       "      <td>251</td>\n",
       "    </tr>\n",
       "  </tbody>\n",
       "</table>\n",
       "</div>"
      ],
      "text/plain": [
       "Property Use Category  Other  Storage  Manufacturing  Assembly  Educational  \\\n",
       "responseSumSeconds       458      412            402       380          345   \n",
       "\n",
       "Property Use Category  Residential  Outside  Business  \\\n",
       "responseSumSeconds             338      302       291   \n",
       "\n",
       "Property Use Category  Health Care or Detention  Industrial  \n",
       "responseSumSeconds                          275         251  "
      ]
     },
     "execution_count": 91,
     "metadata": {},
     "output_type": "execute_result"
    }
   ],
   "source": [
    "ctgryResptimeDataFramer()"
   ]
  },
  {
   "cell_type": "code",
   "execution_count": 92,
   "metadata": {
    "ExecuteTime": {
     "end_time": "2019-04-23T11:35:16.863357Z",
     "start_time": "2019-04-23T11:35:16.222792Z"
    }
   },
   "outputs": [
    {
     "name": "stdout",
     "output_type": "stream",
     "text": [
      "{'Other': responseSumSeconds    458\n",
      "Name: Other, dtype: int64, 'Storage': responseSumSeconds    412\n",
      "Name: Storage, dtype: int64, 'Manufacturing': responseSumSeconds    402\n",
      "Name: Manufacturing, dtype: int64, 'Assembly': responseSumSeconds    380\n",
      "Name: Assembly, dtype: int64, 'Educational': responseSumSeconds    345\n",
      "Name: Educational, dtype: int64, 'Residential': responseSumSeconds    338\n",
      "Name: Residential, dtype: int64, 'Outside': responseSumSeconds    302\n",
      "Name: Outside, dtype: int64, 'Business': responseSumSeconds    291\n",
      "Name: Business, dtype: int64, 'Health Care or Detention': responseSumSeconds    275\n",
      "Name: Health Care or Detention, dtype: int64, 'Industrial': responseSumSeconds    251\n",
      "Name: Industrial, dtype: int64}\n"
     ]
    }
   ],
   "source": [
    "def barCategoryRespTimer(_df = ctgryResptimeDataFramer()):\n",
    "    _list = list(_df.columns)\n",
    "    plt.style.use(style='fivethirtyeight')\n",
    "    plt.figure(figsize=(12,8))\n",
    "    plt.grid(True)\n",
    "    plt.title(\"Response Time vs Property Use Category\")\n",
    "    plt.xlabel('Response Time In Seconds')\n",
    "# parameter: create an axis with all around average\n",
    "    for category in _list:\n",
    "        plt.barh(category[:12], _df[category],alpha = 0.75, align='center', label=category)\n",
    "#     plt.legend(loc='best')\n",
    "    plt.show()"
   ]
  },
  {
   "cell_type": "code",
   "execution_count": 93,
   "metadata": {
    "ExecuteTime": {
     "end_time": "2019-04-23T11:35:17.113351Z",
     "start_time": "2019-04-23T11:35:17.082086Z"
    }
   },
   "outputs": [],
   "source": [
    "# plt.style.use(style='seaborn-darkgrid')\n",
    "plt.style.use(style='fivethirtyeight')\n",
    "# plt.style.use(style='ggplot')"
   ]
  },
  {
   "cell_type": "code",
   "execution_count": 109,
   "metadata": {
    "ExecuteTime": {
     "end_time": "2019-04-23T11:47:25.864041Z",
     "start_time": "2019-04-23T11:47:25.660985Z"
    }
   },
   "outputs": [
    {
     "data": {
      "image/png": "[encoded data removed]",
      "text/plain": [
       "<Figure size 864x576 with 1 Axes>"
      ]
     },
     "metadata": {},
     "output_type": "display_data"
    }
   ],
   "source": [
    "barCategoryRespTimer()"
   ]
  },
  {
   "cell_type": "code",
   "execution_count": null,
   "metadata": {},
   "outputs": [],
   "source": []
  },
  {
   "cell_type": "code",
   "execution_count": null,
   "metadata": {},
   "outputs": [],
   "source": []
  },
  {
   "cell_type": "code",
   "execution_count": null,
   "metadata": {},
   "outputs": [],
   "source": []
  },
  {
   "cell_type": "code",
   "execution_count": 110,
   "metadata": {
    "ExecuteTime": {
     "end_time": "2019-04-23T12:00:23.900523Z",
     "start_time": "2019-04-23T12:00:23.244268Z"
    }
   },
   "outputs": [],
   "source": [
    "import warnings\n",
    "warnings.filterwarnings('ignore')\n",
    "\n",
    "import os\n",
    "import pandas as pd\n",
    "import datetime as dt\n",
    "\n",
    "from matplotlib import pyplot as plt\n",
    "plt.style.use('fivethirtyeight')\n",
    "\n",
    "def csvToDataframe(FILE_NAME='fire_county_data.csv', STATIC_FOLDER=''):\n",
    "    \"\"\" RETURNS PANDAS DATAFRAME, REQUIRES FILENAME WITH .CSV EXTENSION \n",
    "    ALSO STATIC_FOLDER IF ANY DEFAULT NONE \"\"\"\n",
    "    BASE_DIR = os.getcwd()\n",
    "    PATH_COMPILED = os.path.join(BASE_DIR, STATIC_FOLDER, FILE_NAME)\n",
    "    _df = pd.read_csv(PATH_COMPILED, encoding=\"iso-8859-1\", low_memory=False)\n",
    "    return _df\n",
    "\n",
    "# csvToDataframe()\n",
    "\n",
    "def describeFireData(DESC_FILE_NAME = 'fire_data_description.csv'):\n",
    "    desc_fire_df = pandaFramer(DESC_FILE_NAME)\n",
    "    dict_keys = desc_fire_df['Column Heading']\n",
    "    dict_values = desc_fire_df['Value Description']\n",
    "    _dict = dict(zip(dict_keys, dict_values))\n",
    "    print(_dict)\n",
    "    return _dict\n",
    "\n",
    "# describeFireData()\n",
    "\n",
    "def ctgryResptimeDataFramer(FIRE_DATA_FILENAME = 'fire_county_data.csv'):\n",
    "    fire_df = pandaFramer(FIRE_DATA_FILENAME)\n",
    "    responseTime_df = fire_df[[\n",
    "        'Property Use Category',\n",
    "        'Total First Unit Response Time'\n",
    "    ]].dropna()\n",
    "    responseTime_df['responseTime'] = responseTime_df['Total First Unit Response Time']\n",
    "    responseTime_df.drop(columns='Total First Unit Response Time', inplace=True)\n",
    "\n",
    "    # groupby -> mean doesnot work yet. dtype is non-numeric\n",
    "    responseTime_df['responseSumSeconds'] = [ int(int(dt.datetime.strptime(response,'%H:%M:%S').hour)*3600 + int(dt.datetime.strptime(response,'%H:%M:%S').minute)*60 + int(dt.datetime.strptime(response,'%H:%M:%S').second))\n",
    "        for response in responseTime_df['responseTime']\n",
    "    ]\n",
    "    resPrpCtgFocused_df = responseTime_df.groupby('Property Use Category').mean().__round__(0)\n",
    "    resPrpCtgFocused_df['responseSumSeconds'] = [int(second) \n",
    "                                                 for second in resPrpCtgFocused_df['responseSumSeconds']\n",
    "                                                ]\n",
    "    \n",
    "    resPrpCtgFocused_df.sort_values(by= ['responseSumSeconds'], ascending=False, inplace=True)\n",
    "    resPrpCtgFocused_df=resPrpCtgFocused_df.T\n",
    "    _df = resPrpCtgFocused_df.copy()\n",
    "#     keys_list = [str(column) for column in list(_df.columns)]\n",
    "#     values_list = [_df[column] for column in keys_list]\n",
    "#     _dict = dict(zip(keys_list, values_list))\n",
    "#     print(_dict)\n",
    "    return _df\n",
    "\n",
    "# ctgryResptimeDataFramer()\n",
    "\n",
    "def barCategoryRespTimer(_df = ctgryResptimeDataFramer()):\n",
    "    _list = list(_df.columns)\n",
    "    plt.style.use(style='fivethirtyeight')\n",
    "    plt.figure(figsize=(12,8))\n",
    "    plt.grid(True)\n",
    "    plt.title(\"Response Time vs Property Use Category\")\n",
    "    plt.xlabel('Response Time In Seconds')\n",
    "# parameter: create an axis with all around average\n",
    "    for category in _list:\n",
    "        plt.barh(category[:12], _df[category],alpha = 0.75, align='center', label=category)\n",
    "#     plt.legend(loc='best')\n",
    "    plt.show()"
   ]
  },
  {
   "cell_type": "code",
   "execution_count": 111,
   "metadata": {
    "ExecuteTime": {
     "end_time": "2019-04-23T12:00:48.763145Z",
     "start_time": "2019-04-23T12:00:48.560031Z"
    }
   },
   "outputs": [
    {
     "data": {
      "image/png": "[encoded data removed]",
      "text/plain": [
       "<Figure size 864x576 with 1 Axes>"
      ]
     },
     "metadata": {},
     "output_type": "display_data"
    }
   ],
   "source": [
    "barCategoryRespTimer()"
   ]
  },
  {
   "cell_type": "code",
   "execution_count": null,
   "metadata": {},
   "outputs": [],
   "source": []
  }
 ],
 "metadata": {
  "kernelspec": {
   "display_name": "Python 3",
   "language": "python",
   "name": "python3"
  },
  "varInspector": {
   "cols": {
    "lenName": 16,
    "lenType": 16,
    "lenVar": 40
   },
   "kernels_config": {
    "python": {
     "delete_cmd_postfix": "",
     "delete_cmd_prefix": "del ",
     "library": "var_list.py",
     "varRefreshCmd": "print(var_dic_list())"
    },
    "r": {
     "delete_cmd_postfix": ") ",
     "delete_cmd_prefix": "rm(",
     "library": "var_list.r",
     "varRefreshCmd": "cat(var_dic_list()) "
    }
   },
   "types_to_exclude": [
    "module",
    "function",
    "builtin_function_or_method",
    "instance",
    "_Feature"
   ],
   "window_display": false
  }
 },
 "nbformat": 4,
 "nbformat_minor": 2
}
