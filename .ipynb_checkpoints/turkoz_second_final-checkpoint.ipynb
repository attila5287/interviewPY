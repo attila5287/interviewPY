{
 "cells": [
  {
   "cell_type": "code",
   "execution_count": 10,
   "metadata": {
    "ExecuteTime": {
     "end_time": "2019-04-02T07:14:10.914061Z",
     "start_time": "2019-04-02T07:14:10.909047Z"
    }
   },
   "outputs": [],
   "source": [
    "from IPython.core.interactiveshell import InteractiveShell\n",
    "InteractiveShell.ast_node_interactivity = \"all\"\n",
    "import pandas as pd\n",
    "import datetime as dt\n",
    "from datetime import timedelta\n",
    "import warnings; warnings.simplefilter('ignore')"
   ]
  },
  {
   "cell_type": "code",
   "execution_count": 11,
   "metadata": {
    "ExecuteTime": {
     "end_time": "2019-04-02T07:14:11.063085Z",
     "start_time": "2019-04-02T07:14:11.060086Z"
    }
   },
   "outputs": [],
   "source": [
    "# dates sent with assignment stored thus named as constansts\n",
    "TEST_STARTDATE = '2011-1-2'\n",
    "TEST_ENDDATE = '2011-4-5'"
   ]
  },
  {
   "cell_type": "code",
   "execution_count": 12,
   "metadata": {
    "ExecuteTime": {
     "end_time": "2019-04-02T07:14:11.212925Z",
     "start_time": "2019-04-02T07:14:11.207927Z"
    }
   },
   "outputs": [],
   "source": [
    "def adjustDateOffset(date_string):\n",
    "    \"\"\"\n",
    "    RETURNS DATE AS STRING FOR DATETIME SERIES FUNC CALLS\n",
    "    REQUIRES Y-m-d FORMAT\n",
    "    \"\"\"\n",
    "    _date_string = str(date_string)\n",
    "    _dt = dt.datetime.strptime(_date_string,'%Y-%m-%d').replace(day=1)\n",
    "    _dt_date = _dt.date() #date has no time hour min etc. only year month day\n",
    "    y = _dt_date.year\n",
    "    m = _dt_date.month\n",
    "    d = _dt_date.day\n",
    "    return str(dt.datetime(y, m,d).date())"
   ]
  },
  {
   "cell_type": "code",
   "execution_count": 27,
   "metadata": {
    "ExecuteTime": {
     "end_time": "2019-04-02T07:17:49.613080Z",
     "start_time": "2019-04-02T07:17:49.609082Z"
    }
   },
   "outputs": [
    {
     "data": {
      "text/plain": [
       "'2011-01-01'"
      ]
     },
     "execution_count": 27,
     "metadata": {},
     "output_type": "execute_result"
    }
   ],
   "source": [
    "adjustDateOffset(TEST_STARTDATE)"
   ]
  },
  {
   "cell_type": "code",
   "execution_count": 38,
   "metadata": {
    "ExecuteTime": {
     "end_time": "2019-04-02T07:21:58.862282Z",
     "start_time": "2019-04-02T07:21:58.842294Z"
    }
   },
   "outputs": [],
   "source": [
    "import pandas as pd\n",
    "import datetime as dt\n",
    "\n",
    "# dates sent with assignment stored thus named as constansts\n",
    "TEST_STARTDATE = '2011-1-2'\n",
    "TEST_ENDDATE = '2011-4-5'\n",
    "\n",
    "def problem_2(date_start, date_end):\n",
    "    \"\"\"\n",
    "    - Accepts a date range and returns a dictionary of the percentage of loans approved over that time period.\n",
    "    - Aggregatesresults by month, and includes the entire month if any part of it is in the request. \n",
    "          For example: problem_2('2011-1-5','2011-1-7') would consider ALL records for January 2011. \n",
    "    - Assumes that loans are immediately approved/funded upon application \n",
    "                (eg. Application date/ fund date/ decline date are all equivalent.) \n",
    "    - Example call, response: problem_2(‘2011-1-2’, ‘2011-4-5’) might return\n",
    "    {‘2011/1/1’ : 0.091 , ‘2011/2/1’ :  0.081, ‘2011/3/1’ :  0.074, ‘2011/4/1’ : 0.082}\n",
    "    \"\"\"\n",
    "    def adjustDatetime(date_string):\n",
    "        \"\"\"\n",
    "        RETURNS DATE AS STRING FOR DATETIME SERIES FUNC CALLS\n",
    "        ONLY REQUIRED FOR NEXT FUNCTION METHOD\n",
    "        \"\"\"\n",
    "        _date_string = str(date_string)\n",
    "        _dt = dt.datetime.strptime(_date_string,'%Y-%m-%d').replace(day=1)\n",
    "        _dt_date = _dt.date() #date has no time hour min etc. only year month day\n",
    "        y, m ,d = _dt_date.year, _dt_date.month, _dt_date.day\n",
    "        return str(dt.datetime(y, m,d).date())\n",
    "\n",
    "    def monthlyLoanRejectedDFramer(date_start,date_end):\n",
    "        \"\"\"REQUIRES START AND END DATE AS PARAMETERS, \n",
    "        RETURNS A DATAFRAME DT-DATE INDEXED GROUPED UNDER MONTHLY FREQ\n",
    "        //IGNORES DAY ON INPUT DATES AND RETURNS MONTHLY GROUPED REJECTION COUNT AS VALUES// \n",
    "        \"\"\"\n",
    "        file_path_rej = 'loan_declines.csv'\n",
    "        dataRejected = pd.read_csv(file_path_rej)\n",
    "        rejected_df = dataRejected.groupby('Application Date').count().reset_index().dropna()\n",
    "        rejected_df = rejected_df[['Policy Code', 'Application Date']]\n",
    "        rejected_df['ApplicationDate_str'] = [ str(dateApp ) for dateApp in rejected_df['Application Date'] ]\n",
    "        rejected_df['date_dt'] = [dt.datetime.strptime(dateApp,'%m/%d/%Y') for dateApp in rejected_df['ApplicationDate_str']]\n",
    "        rejectedmini_df = rejected_df[['Policy Code','date_dt']]\n",
    "        rejectedmini_df['yearM0nth'] = rejectedmini_df['date_dt'].map(lambda dt: dt.replace(day=1))\n",
    "        rejectedFinal_df = rejectedmini_df.groupby('yearM0nth').sum()\n",
    "        date_start_adj = adjustDatetime(date_start)\n",
    "        date_end_adj = adjustDatetime(date_start)\n",
    "        __df = rejectedFinal_df.loc[date_start_adj:date_end]\n",
    "        return __df\n",
    "\n",
    "    def monthlyLoanApprovedDFramer(date_start,date_end):\n",
    "        \"\"\"\n",
    "        REQUIRES START AND END DATE AS PARAMETERS, \n",
    "        RETURNS A DATAFRAME DT-DATE INDEXED GROUPED UNDER MONTHLY FREQ\n",
    "        // NO DAILY BREAKDOWN PROVIDED THUS MONTHLY COUNT ONLY //\n",
    "        \"\"\"\n",
    "        file_path_approved = 'loan_approvals.csv'\n",
    "        appRaw_df = pd.read_csv(file_path_approved)\n",
    "        appGrpDate_df = appRaw_df.groupby('issue_d').count().reset_index().dropna()\n",
    "        approvedMini_df = appGrpDate_df[['issue_d', 'policy_code']]\n",
    "        approvedMini_df['date_dt'] = [dt.datetime.strptime(issueDate,'%b-%y') for issueDate in appGrpDate_df['issue_d']]\n",
    "        date_start_adj = adjustDateOffset(date_start) #removes the bias-offset\n",
    "        return approvedMini_df.groupby('date_dt').sum()[date_start_adj : date_end]\n",
    "\n",
    "    def buildPercAppList(date_zer0, date_aga1n):\n",
    "        \"\"\"\n",
    "        RETURNS A LIST OF PERCENTAGE RATIO FOR LOAN APPLICATIONS\n",
    "        \"\"\"\n",
    "        rej_df = monthlyLoanRejectedDFramer(date_zer0,date_aga1n)\n",
    "        rejected_list = rej_df['Policy Code']\n",
    "        app_df = monthlyLoanApprovedDFramer(date_zer0, date_aga1n)\n",
    "        approved_list = app_df['policy_code']\n",
    "    # --------------- --------------- ---------------\n",
    "        all_list, perc_formatted_list, percentage_approved_list = [],[],[]\n",
    "        all_list = [int(approved+rejected) for approved, rejected in zip(approved_list, rejected_list)]\n",
    "    #  --------------- --------------- --------------- ---------------\n",
    "        for approved, total in zip(approved_list,all_list):\n",
    "            perc_app = int(approved)/int(total)\n",
    "            percentage_approved_list.append(perc_app)\n",
    "            perc_formatted = '{:,.1%} '.format(perc_app)\n",
    "            perc_formatted_list.append(perc_formatted)\n",
    "\n",
    "        _out = perc_formatted_list\n",
    "        return _out\n",
    "\n",
    "    def buildDateListStr(date_zer0, date_aga1n) :\n",
    "        # first list for dictionary, keys \n",
    "        dates_list = monthlyLoanApprovedDFramer(date_zer0, date_aga1n).index\n",
    "        dates_list_str = dates_list.astype('S')\n",
    "        return dates_list_str\n",
    "\n",
    "    def buildFinalDict(date_zer0, date_aga1n):\n",
    "        dateRange_results =  buildDateListStr(date_zer0, date_aga1n)\n",
    "        perc_results = buildPercAppList(date_zer0,date_aga1n)\n",
    "\n",
    "        _out = dict(zip(dateRange_results,perc_results))\n",
    "#         print(_out)\n",
    "        return _out\n",
    "\n",
    "    _outFnlDict = buildFinalDict(date_start,date_end)\n",
    "    print(_outFnlDict)\n",
    "    return _outFnlDict"
   ]
  },
  {
   "cell_type": "code",
   "execution_count": 39,
   "metadata": {
    "ExecuteTime": {
     "end_time": "2019-04-02T07:22:02.223157Z",
     "start_time": "2019-04-02T07:21:59.007031Z"
    }
   },
   "outputs": [
    {
     "name": "stdout",
     "output_type": "stream",
     "text": [
      "{'2011-01-01': '9.1% ', '2011-02-01': '8.1% ', '2011-03-01': '7.5% ', '2011-04-01': '8.2% '}\n"
     ]
    },
    {
     "data": {
      "text/plain": [
       "{'2011-01-01': '9.1% ',\n",
       " '2011-02-01': '8.1% ',\n",
       " '2011-03-01': '7.5% ',\n",
       " '2011-04-01': '8.2% '}"
      ]
     },
     "execution_count": 39,
     "metadata": {},
     "output_type": "execute_result"
    }
   ],
   "source": [
    "problem_2(TEST_STARTDATE,TEST_ENDDATE)"
   ]
  },
  {
   "cell_type": "code",
   "execution_count": null,
   "metadata": {},
   "outputs": [],
   "source": []
  }
 ],
 "metadata": {
  "kernelspec": {
   "display_name": "'Python Interactive'",
   "language": "python",
   "name": "873e935e-c604-4450-8875-223c27c8e410"
  },
  "language_info": {
   "codemirror_mode": {
    "name": "ipython",
    "version": 3
   },
   "file_extension": ".py",
   "mimetype": "text/x-python",
   "name": "python",
   "nbconvert_exporter": "python",
   "pygments_lexer": "ipython3",
   "version": "3.6.6"
  },
  "latex_envs": {
   "LaTeX_envs_menu_present": true,
   "autoclose": true,
   "autocomplete": true,
   "bibliofile": "biblio.bib",
   "cite_by": "apalike",
   "current_citInitial": 1,
   "eqLabelWithNumbers": false,
   "eqNumInitial": 1,
   "hotkeys": {
    "equation": "Ctrl-E",
    "itemize": "Ctrl-I"
   },
   "labels_anchors": false,
   "latex_user_defs": false,
   "report_style_numbering": false,
   "user_envs_cfg": false
  },
  "varInspector": {
   "cols": {
    "lenName": 16,
    "lenType": 16,
    "lenVar": 40
   },
   "kernels_config": {
    "python": {
     "delete_cmd_postfix": "",
     "delete_cmd_prefix": "del ",
     "library": "var_list.py",
     "varRefreshCmd": "print(var_dic_list())"
    },
    "r": {
     "delete_cmd_postfix": ") ",
     "delete_cmd_prefix": "rm(",
     "library": "var_list.r",
     "varRefreshCmd": "cat(var_dic_list()) "
    }
   },
   "types_to_exclude": [
    "module",
    "function",
    "builtin_function_or_method",
    "instance",
    "_Feature"
   ],
   "window_display": false
  }
 },
 "nbformat": 4,
 "nbformat_minor": 2
}
