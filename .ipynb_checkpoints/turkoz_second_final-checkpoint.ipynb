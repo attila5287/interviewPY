{
 "cells": [
  {
   "cell_type": "code",
   "execution_count": 3,
   "metadata": {
    "ExecuteTime": {
     "end_time": "2019-04-05T08:24:23.697417Z",
     "start_time": "2019-04-05T08:24:23.692422Z"
    }
   },
   "outputs": [],
   "source": [
    "from IPython.core.interactiveshell import InteractiveShell\n",
    "InteractiveShell.ast_node_interactivity = \"all\"\n",
    "import warnings; warnings.simplefilter('ignore')"
   ]
  },
  {
   "cell_type": "code",
   "execution_count": 19,
   "metadata": {
    "ExecuteTime": {
     "end_time": "2019-04-06T07:28:48.381140Z",
     "start_time": "2019-04-06T07:28:42.044798Z"
    }
   },
   "outputs": [
    {
     "name": "stdout",
     "output_type": "stream",
     "text": [
      "\n",
      "------------------ USER INPUT -----------------\n",
      "start date: 2011-1-2\n",
      "end date  : 2011-4-5\n",
      "-------------- AGGREGATE BY MONTH ------------- \n",
      "index first date: January of 2011\n",
      "end date  : April of 2011\n",
      "[dict_keys(['2011-01-01', '2011-02-01', '2011-03-01', '2011-04-01'])]\n",
      " ------------- DICTIONARY - RESULTS ----------- \n",
      "[dict_values(['9.1% ', '8.1% ', '7.5% ', '8.2% '])]\n",
      " --------------- DICTIONARY-PAIRS ------------- \n",
      "2011-01-01 | 9.1% \n",
      "2011-02-01 | 8.1% \n",
      "2011-03-01 | 7.5% \n",
      "2011-04-01 | 8.2% \n",
      "\n"
     ]
    },
    {
     "data": {
      "text/plain": [
       "{'2011-01-01': '9.1% ',\n",
       " '2011-02-01': '8.1% ',\n",
       " '2011-03-01': '7.5% ',\n",
       " '2011-04-01': '8.2% '}"
      ]
     },
     "execution_count": 19,
     "metadata": {},
     "output_type": "execute_result"
    }
   ],
   "source": [
    "# simple warnings OFF\n",
    "import warnings; warnings.simplefilter('ignore')\n",
    "\n",
    "# pandas is required to read big data csv file abt a 3/4 th of a million row\n",
    "import pandas as pd\n",
    "\n",
    "# datetime will be used to convert string from csv to date/time series \n",
    "import datetime as dt\n",
    "\n",
    "# dates sent with assignment named as CONSTANT\n",
    "TEST_STARTDATE = '2011-1-2'\n",
    "TEST_ENDDATE = '2011-4-5'\n",
    "\n",
    "def problem_2(date_start, date_end):\n",
    "    \"\"\"\n",
    "    - Accepts a date range and returns a dictionary of the percentage of loans approved over that time period.\n",
    "    - Aggregatesresults by month, and includes the entire month if any part of it is in the request. \n",
    "          For example: problem_2('2011-1-5','2011-1-7') would consider ALL records for January 2011. \n",
    "    - Assumes that loans are immediately approved/funded upon application \n",
    "                (eg. Application date/ fund date/ decline date are all equivalent.) \n",
    "    - Example call, response: problem_2(‘2011-1-2’, ‘2011-4-5’) might return\n",
    "    {‘2011/1/1’ : 0.091 , ‘2011/2/1’ :  0.081, ‘2011/3/1’ :  0.074, ‘2011/4/1’ : 0.082}\n",
    "    \"\"\"\n",
    "#-0-this function was somewhat necessary for accurate date conversion\n",
    "# originally written to deduct a month to fix datetime series index offset\n",
    "# then it turns out that the best way to work with dt objects is to parse them \n",
    "    def adjustDatetime(date_string):\n",
    "        \"\"\"\n",
    "        RETURNS DATE AS STRING FOR DATETIME SERIES FUNC CALLS\n",
    "        ONLY REQUIRED FOR NEXT FUNCTION METHOD\n",
    "        \"\"\"\n",
    "        _date_string = str(date_string)\n",
    "        _dt = dt.datetime.strptime(_date_string,'%Y-%m-%d').replace(day=1)\n",
    "        _dt_date = _dt.date() #date has no time hour min etc. only year month day\n",
    "        y, m ,d = _dt_date.year, _dt_date.month, _dt_date.day\n",
    "        return str(dt.datetime(y, m,d).date())\n",
    "\n",
    "#-I-this is one of the main-duo. Reads the largest file with 755 thousand rows\n",
    "# returns a dataframe thus would only be used for internal calculations\n",
    "    def monthlyLoanRejectedDFramer(date_start,date_end):\n",
    "        \"\"\"REQUIRES START AND END DATE AS PARAMETERS, \n",
    "        RETURNS A DATAFRAME DT-DATE INDEXED GROUPED UNDER MONTHLY FREQ\n",
    "        //IGNORES DAY ON INPUT DATES AND RETURNS MONTHLY GROUPED REJECTION COUNT AS VALUES// \n",
    "        \"\"\"\n",
    "        file_path_rej = 'loan_declines.csv'\n",
    "        dataRejected = pd.read_csv(file_path_rej)\n",
    "        rejected_df = dataRejected.groupby('Application Date').count().reset_index().dropna()\n",
    "        rejected_df = rejected_df[['Policy Code', 'Application Date']]\n",
    "        rejected_df['ApplicationDate_str'] = [ str(dateApp ) for dateApp in rejected_df['Application Date'] ]\n",
    "        rejected_df['date_dt'] = [dt.datetime.strptime(dateApp,'%m/%d/%Y') for dateApp in rejected_df['ApplicationDate_str']]\n",
    "        rejectedmini_df = rejected_df[['Policy Code','date_dt']]\n",
    "        rejectedmini_df['yearM0nth'] = rejectedmini_df['date_dt'].map(lambda dt: dt.replace(day=1))\n",
    "        rejectedFinal_df = rejectedmini_df.groupby('yearM0nth').sum()\n",
    "        date_start_adj = adjustDatetime(date_start)\n",
    "        date_end_adj = adjustDatetime(date_start)\n",
    "        __df = rejectedFinal_df.loc[date_start_adj:date_end]\n",
    "        return __df\n",
    "\n",
    "#-II- just like above but only reads abt 45 thousand row csv file\n",
    "# again will mostly be used for internal calc since it returns a dataframe\n",
    "    def monthlyLoanApprovedDFramer(date_start,date_end):\n",
    "        \"\"\"\n",
    "        REQUIRES START AND END DATE AS PARAMETERS, \n",
    "        RETURNS A DATAFRAME DT-DATE INDEXED GROUPED UNDER MONTHLY FREQ\n",
    "        // NO DAILY BREAKDOWN PROVIDED THUS MONTHLY COUNT ONLY //\n",
    "        \"\"\"\n",
    "        file_path_approved = 'loan_approvals.csv'\n",
    "        appRaw_df = pd.read_csv(file_path_approved)\n",
    "        appGrpDate_df = appRaw_df.groupby('issue_d').count().reset_index().dropna()\n",
    "        approvedMini_df = appGrpDate_df[['issue_d', 'policy_code']]\n",
    "        approvedMini_df['date_dt'] = [dt.datetime.strptime(issueDate,'%b-%y') for issueDate in appGrpDate_df['issue_d']]\n",
    "        date_start_adj = adjustDatetime(date_start) #removes the bias-offset\n",
    "        return approvedMini_df.groupby('date_dt').sum()[date_start_adj : date_end]\n",
    "\n",
    "#-III-this function creates a list from above dataframe\n",
    "#calculates with float as dtype then converts them into -percentage-formatted string \n",
    "    def buildPercAppList(date_zer0, date_aga1n):\n",
    "        \"\"\"\n",
    "        RETURNS A LIST OF PERCENTAGE RATIO FOR LOAN APPLICATIONS\n",
    "        \"\"\"\n",
    "# first dataframe, larger one \n",
    "        rej_df = monthlyLoanRejectedDFramer(date_zer0,date_aga1n)\n",
    "# note: count of policy code will give us the number of rejected loan applicants\n",
    "        rejected_list = rej_df['Policy Code']\n",
    "# second dataframe, smaller one \n",
    "        app_df = monthlyLoanApprovedDFramer(date_zer0, date_aga1n)\n",
    "# count of policy code will give us number of approved applications\n",
    "        approved_list = app_df['policy_code']\n",
    "# will create three blank lists. note =[] is faster than =list()\n",
    "# all_list stores sum of apprvd+rejected ALL APPLICANTS\n",
    "# perc_approved stores float dtype of results approval perc\n",
    "# perc_formatted_list stores RESULTS as string objects in a presentable format\n",
    "        all_list, perc_formatted_list, percentage_approved_list = [],[],[]\n",
    "        all_list = [int(approved+rejected) for approved, rejected in zip(approved_list, rejected_list)]\n",
    "#  block to fill up above created list. dvide approved count/total \n",
    "        for approved, total in zip(approved_list,all_list):\n",
    "            perc_app = int(approved)/int(total)\n",
    "            percentage_approved_list.append(perc_app)\n",
    "            perc_formatted = '{:,.1%} '.format(perc_app)\n",
    "            perc_formatted_list.append(perc_formatted)\n",
    "\n",
    "        _out = perc_formatted_list\n",
    "        return _out\n",
    "\n",
    "    def buildDateListStr(date_zer0, date_aga1n):\n",
    "        \"\"\"\n",
    "        RETURNS A LIST OF MONTHS STORED AS STRING THAT WILL BE\n",
    "        USED AS KEYS FOR OUTPUT-DICTIONARY\n",
    "        \"\"\"\n",
    "        # first list for dictionary, keys \n",
    "        dates_list = monthlyLoanApprovedDFramer(date_zer0, date_aga1n).index\n",
    "        dates_list_str = dates_list.astype('S')\n",
    "        return dates_list_str\n",
    "\n",
    "    def buildFinalDict(date_zer0, date_aga1n):\n",
    "        \"\"\"\n",
    "        RETURNS A DICTIONARY WITH MONTHS THROUGH INPUT-DATE-RANGE AS KEYS\n",
    "        AND PERC OF LOAN APPLICATIONS APPROVED WITHIN THE MONTH \n",
    "        \"\"\"\n",
    "        dateRange_results =  buildDateListStr(date_zer0, date_aga1n)\n",
    "        perc_results = buildPercAppList(date_zer0,date_aga1n)\n",
    "\n",
    "        _out = dict(zip(dateRange_results,perc_results))\n",
    "#         print(_out)\n",
    "        return _out\n",
    "\n",
    "    def prompt_month_year(date_string):\n",
    "        \"\"\"\n",
    "        PRINTS MESSAGES WHEN FUNCTION CALLED, CONVERTS DATE FROM %m \n",
    "        FORMAT TO FULL NAME, GENERATES SIMPLE TEXT AS GENERAL INFO\n",
    "        \"\"\"\n",
    "        _date_string = str(date_string)\n",
    "        _dt = dt.datetime.strptime(_date_string,'%Y-%m-%d')\n",
    "        day_user = _dt.date().day    # store original date on input\n",
    "        _dt = dt.datetime.strptime(_date_string,'%Y-%m-%d').replace(day=1)\n",
    "        _dt_date = _dt.date() #date has no time hour min etc. only year month day\n",
    "        y, m ,d = _dt_date.year, _dt_date.month, _dt_date.day\n",
    "    # convert month-integer to full name for a better presentation\n",
    "        _dict = {'1':'January', '2':'February', '3':'March', '4':'April', '5':'May', '6':'June', \n",
    "            '7':'July', '8':'August', '9':'September', '10':'October', '11':'November', '12':'December' \n",
    "        }\n",
    "        _month = str(dt.datetime(y, m,d).date().month)\n",
    "        _month_full = _dict[_month]\n",
    "        _year= str(dt.datetime(y, m,d).date().year)\n",
    "        _out = _month_full + \" of \" + _year\n",
    "        return _out\n",
    "\n",
    "    \n",
    "    \n",
    "    _outFnlDict = buildFinalDict(date_start,date_end)\n",
    "    \n",
    "# _______________________ PROMPT-OUTPUT _______________________\n",
    "    def displayResults():\n",
    "        \"\"\"\n",
    "        RETURNS NONE, REQUIRES NO ARGUMENT, PRINTS \n",
    "        \"\"\"\n",
    "        global __outFnlDict\n",
    "        __outFnlDict = buildFinalDict(date_start,date_end)\n",
    "        print() \n",
    "        print(\"------------------ USER INPUT -----------------\")\n",
    "        print(\"start date: \"+ date_start )\n",
    "        print(\"end date  : \" + date_end )\n",
    "        print(\"-------------- AGGREGATE BY MONTH ------------- \")\n",
    "        print(\"index first date: \"+ prompt_month_year(date_start ))\n",
    "        print(\"end date  : \" + prompt_month_year(date_end ))\n",
    "        print(\" ------------- DICTIONARY - RESULTS ----------- \")\n",
    "        for pair in _outFnlDict:\n",
    "            print(pair + \" | \" + _outFnlDict[pair])\n",
    "        print(\" ---------------- T H E - E N D  -------------- \")\n",
    "        print() \n",
    "        return None\n",
    "    \n",
    "    displayResults()\n",
    "\n",
    "    return _outFnlDict\n",
    "# =====================================================================\n",
    "problem_2(TEST_STARTDATE,TEST_ENDDATE)"
   ]
  },
  {
   "cell_type": "code",
   "execution_count": 8,
   "metadata": {
    "ExecuteTime": {
     "end_time": "2019-04-06T07:20:37.898709Z",
     "start_time": "2019-04-06T07:20:37.894712Z"
    }
   },
   "outputs": [],
   "source": [
    "dictKeys = ['2011-01-01', '2011-02-01', '2011-03-01', '2011-04-01']\n",
    "dictValues = ['9.1% ', '8.1% ', '7.5% ', '8.2% ']\n",
    "dictTest = dict(zip(dictKeys, dictValues))"
   ]
  },
  {
   "cell_type": "code",
   "execution_count": 17,
   "metadata": {
    "ExecuteTime": {
     "end_time": "2019-04-06T07:24:23.749167Z",
     "start_time": "2019-04-06T07:24:23.745167Z"
    }
   },
   "outputs": [
    {
     "name": "stdout",
     "output_type": "stream",
     "text": [
      "2011-01-01 | 9.1% \n",
      "2011-02-01 | 8.1% \n",
      "2011-03-01 | 7.5% \n",
      "2011-04-01 | 8.2% \n"
     ]
    }
   ],
   "source": [
    "for pair in dictTest:\n",
    "    print(pair + \" | \" + dictTest[pair])"
   ]
  },
  {
   "cell_type": "code",
   "execution_count": null,
   "metadata": {},
   "outputs": [],
   "source": []
  }
 ],
 "metadata": {
  "kernelspec": {
   "display_name": "'Python Interactive'",
   "language": "python",
   "name": "873e935e-c604-4450-8875-223c27c8e410"
  },
  "language_info": {
   "codemirror_mode": {
    "name": "ipython",
    "version": 3
   },
   "file_extension": ".py",
   "mimetype": "text/x-python",
   "name": "python",
   "nbconvert_exporter": "python",
   "pygments_lexer": "ipython3",
   "version": "3.6.6"
  },
  "latex_envs": {
   "LaTeX_envs_menu_present": true,
   "autoclose": true,
   "autocomplete": true,
   "bibliofile": "biblio.bib",
   "cite_by": "apalike",
   "current_citInitial": 1,
   "eqLabelWithNumbers": false,
   "eqNumInitial": 1,
   "hotkeys": {
    "equation": "Ctrl-E",
    "itemize": "Ctrl-I"
   },
   "labels_anchors": false,
   "latex_user_defs": false,
   "report_style_numbering": false,
   "user_envs_cfg": false
  },
  "varInspector": {
   "cols": {
    "lenName": 16,
    "lenType": 16,
    "lenVar": 40
   },
   "kernels_config": {
    "python": {
     "delete_cmd_postfix": "",
     "delete_cmd_prefix": "del ",
     "library": "var_list.py",
     "varRefreshCmd": "print(var_dic_list())"
    },
    "r": {
     "delete_cmd_postfix": ") ",
     "delete_cmd_prefix": "rm(",
     "library": "var_list.r",
     "varRefreshCmd": "cat(var_dic_list()) "
    }
   },
   "types_to_exclude": [
    "module",
    "function",
    "builtin_function_or_method",
    "instance",
    "_Feature"
   ],
   "window_display": false
  }
 },
 "nbformat": 4,
 "nbformat_minor": 2
}
