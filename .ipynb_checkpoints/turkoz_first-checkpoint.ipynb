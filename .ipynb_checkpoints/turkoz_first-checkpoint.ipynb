{
 "cells": [
  {
   "cell_type": "code",
   "execution_count": 2,
   "metadata": {
    "ExecuteTime": {
     "end_time": "2019-04-08T06:15:31.361088Z",
     "start_time": "2019-04-08T06:15:31.356091Z"
    }
   },
   "outputs": [],
   "source": [
    "# Write a function called problem_1, which accepts a state abbreviation (eg 'PA') and\n",
    "# returns the median Debt to income ratio of rejected loan applications for that state.\n",
    "# =-=-=-=-=-=-=-=-=-=-=-=-=-=-=-=-=-=-=-=-=-=-=-=-=-=-=-=-=-=-\n",
    "from IPython.core.interactiveshell import InteractiveShell\n",
    "InteractiveShell.ast_node_interactivity = \"all\"\n",
    "import warnings; warnings.simplefilter('ignore')\n",
    "import pandas as pd\n",
    "import os"
   ]
  },
  {
   "cell_type": "code",
   "execution_count": 144,
   "metadata": {
    "ExecuteTime": {
     "end_time": "2019-04-08T09:23:47.273145Z",
     "start_time": "2019-04-08T09:23:47.267150Z"
    }
   },
   "outputs": [],
   "source": [
    "def problem_1(state='CO'):\n",
    "    \"\"\"\n",
    "    READS CSV FILE OF REJECTED 755K-ROW LOAN APPLICATIONS\n",
    "    GROUPS DATA BY STATE AND RETURNS MEDIAN DEBT-TO-INCOME RATIO\n",
    "    IF NO INPUT GIVEN, DEFAULT STATE IS CO, COLORADO\n",
    "    \"\"\"\n",
    "    # need 'os' operating system module to generate file path thus code runs on any pc\n",
    "    BASE_DIR = os.getcwd() # base directory has the script/code\n",
    "    FILE_NAME_RJCT = 'loan_declines.csv' # constant for file name>merge for absolute path\n",
    "    PATH_ABS_REJECTED = os.path.join(BASE_DIR, FILE_NAME_RJCT) \n",
    "    rejected_df = pd.read_csv(PATH_ABS_REJECTED)\n",
    "    full_column_list = rejected_df.columns # need to locate debt2income ratio column\n",
    "    target_col = str(full_column_list[4])  # lets assign a variable to be on the safe side\n",
    "    mini_rej_df = rejected_df[[target_col, 'State']]\n",
    "    mini_rej_df['numbers_str'] = [percentage[:-1] for percentage in mini_rej_df[target_col]]\n",
    "    mini_rej_df['debt2incomeRatio'] = pd.to_numeric(mini_rej_df['numbers_str'])\n",
    "    state_med1an_df = mini_rej_df.groupby('State').median()['debt2incomeRatio']\n",
    "    state_med1an = state_med1an_df[state]\n",
    "    _out_prompt = str(\"Median for \" + state + \" state Debt-to-income-ratio is \" + str(state_med1an) + \" percent\")\n",
    "    print(_out_prompt)\n",
    "    return _out_prompt"
   ]
  },
  {
   "cell_type": "code",
   "execution_count": 145,
   "metadata": {
    "ExecuteTime": {
     "end_time": "2019-04-08T09:23:51.654404Z",
     "start_time": "2019-04-08T09:23:48.633146Z"
    }
   },
   "outputs": [
    {
     "name": "stdout",
     "output_type": "stream",
     "text": [
      "Median for AK state Debt-to-income-ratio is 14.93 percent\n"
     ]
    },
    {
     "data": {
      "text/plain": [
       "'Median for AK state Debt-to-income-ratio is 14.93 percent'"
      ]
     },
     "execution_count": 145,
     "metadata": {},
     "output_type": "execute_result"
    },
    {
     "name": "stdout",
     "output_type": "stream",
     "text": [
      "Median for CO state Debt-to-income-ratio is 18.48 percent\n"
     ]
    },
    {
     "data": {
      "text/plain": [
       "'Median for CO state Debt-to-income-ratio is 18.48 percent'"
      ]
     },
     "execution_count": 145,
     "metadata": {},
     "output_type": "execute_result"
    }
   ],
   "source": [
    "problem_1('AK')\n",
    "# 'Median for AK state Debt-to-income-ratio is 14.93 percent'\n",
    "problem_1()\n",
    "# 'Median for CO state Debt-to-income-ratio is 18.48 percent'"
   ]
  },
  {
   "cell_type": "code",
   "execution_count": null,
   "metadata": {
    "ExecuteTime": {
     "end_time": "2019-04-08T09:23:25.808521Z",
     "start_time": "2019-04-08T09:23:19.275Z"
    }
   },
   "outputs": [],
   "source": [
    "state_list = bringStateList()\n",
    "\n",
    "for state in state_list:\n",
    "    problem_1(state)"
   ]
  },
  {
   "cell_type": "code",
   "execution_count": 141,
   "metadata": {
    "ExecuteTime": {
     "end_time": "2019-04-08T09:21:25.522935Z",
     "start_time": "2019-04-08T09:21:25.518938Z"
    }
   },
   "outputs": [],
   "source": [
    "def bringStateList():\n",
    "    # need 'os' operating system module to generate file path thus code runs on any pc\n",
    "    BASE_DIR = os.getcwd() # base directory has the script/code\n",
    "    FILE_NAME_RJCT = 'loan_declines.csv' # constant for file name>merge for absolute path\n",
    "    PATH_ABS_REJECTED = os.path.join(BASE_DIR, FILE_NAME_RJCT) \n",
    "    rejected_df = pd.read_csv(PATH_ABS_REJECTED)\n",
    "    _out_list = list(rejected_df['State'].unique())\n",
    "    return _out_list"
   ]
  },
  {
   "cell_type": "code",
   "execution_count": 142,
   "metadata": {
    "ExecuteTime": {
     "end_time": "2019-04-08T09:21:31.155436Z",
     "start_time": "2019-04-08T09:21:30.242979Z"
    }
   },
   "outputs": [
    {
     "data": {
      "text/plain": [
       "['NM',\n",
       " 'MA',\n",
       " 'MD',\n",
       " 'NY',\n",
       " 'IN',\n",
       " 'CO',\n",
       " 'KY',\n",
       " 'LA',\n",
       " 'PA',\n",
       " 'AL',\n",
       " 'TN',\n",
       " 'TX',\n",
       " 'OH',\n",
       " 'VA',\n",
       " 'MO',\n",
       " 'MN',\n",
       " 'CT',\n",
       " 'CA',\n",
       " 'FL',\n",
       " 'GA',\n",
       " 'NE',\n",
       " 'KS',\n",
       " 'AR',\n",
       " 'WI',\n",
       " 'AZ',\n",
       " 'WA',\n",
       " 'OR',\n",
       " 'NC',\n",
       " 'WV',\n",
       " 'UT',\n",
       " 'NJ',\n",
       " 'AK',\n",
       " 'SC',\n",
       " 'VT',\n",
       " 'MS',\n",
       " 'DE',\n",
       " 'MI',\n",
       " 'IA',\n",
       " 'IL',\n",
       " 'OK',\n",
       " 'ME',\n",
       " 'HI',\n",
       " 'NH',\n",
       " 'DC',\n",
       " 'RI',\n",
       " 'NV',\n",
       " 'ND',\n",
       " 'MT',\n",
       " 'WY',\n",
       " 'ID',\n",
       " 'SD',\n",
       " nan]"
      ]
     },
     "execution_count": 142,
     "metadata": {},
     "output_type": "execute_result"
    }
   ],
   "source": []
  },
  {
   "cell_type": "code",
   "execution_count": null,
   "metadata": {},
   "outputs": [],
   "source": []
  },
  {
   "cell_type": "code",
   "execution_count": null,
   "metadata": {},
   "outputs": [],
   "source": []
  },
  {
   "cell_type": "code",
   "execution_count": null,
   "metadata": {},
   "outputs": [],
   "source": []
  },
  {
   "cell_type": "code",
   "execution_count": null,
   "metadata": {},
   "outputs": [],
   "source": []
  }
 ],
 "metadata": {
  "kernelspec": {
   "display_name": "Python 3",
   "language": "python",
   "name": "python3"
  },
  "language_info": {
   "codemirror_mode": {
    "name": "ipython",
    "version": 3
   },
   "file_extension": ".py",
   "mimetype": "text/x-python",
   "name": "python",
   "nbconvert_exporter": "python",
   "pygments_lexer": "ipython3",
   "version": "3.6.5"
  },
  "varInspector": {
   "cols": {
    "lenName": 16,
    "lenType": 16,
    "lenVar": 40
   },
   "kernels_config": {
    "python": {
     "delete_cmd_postfix": "",
     "delete_cmd_prefix": "del ",
     "library": "var_list.py",
     "varRefreshCmd": "print(var_dic_list())"
    },
    "r": {
     "delete_cmd_postfix": ") ",
     "delete_cmd_prefix": "rm(",
     "library": "var_list.r",
     "varRefreshCmd": "cat(var_dic_list()) "
    }
   },
   "types_to_exclude": [
    "module",
    "function",
    "builtin_function_or_method",
    "instance",
    "_Feature"
   ],
   "window_display": false
  }
 },
 "nbformat": 4,
 "nbformat_minor": 2
}
