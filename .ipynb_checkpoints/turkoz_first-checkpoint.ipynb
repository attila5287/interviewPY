{
 "cells": [
  {
   "cell_type": "code",
   "execution_count": 2,
   "metadata": {
    "ExecuteTime": {
     "end_time": "2019-04-08T06:15:31.361088Z",
     "start_time": "2019-04-08T06:15:31.356091Z"
    }
   },
   "outputs": [],
   "source": [
    "# Write a function called problem_1, which accepts a state abbreviation (eg 'PA') and\n",
    "# returns the median Debt to income ratio of rejected loan applications for that state.\n",
    "# =-=-=-=-=-=-=-=-=-=-=-=-=-=-=-=-=-=-=-=-=-=-=-=-=-=-=-=-=-=-\n",
    "from IPython.core.interactiveshell import InteractiveShell\n",
    "InteractiveShell.ast_node_interactivity = \"all\"\n",
    "import warnings; warnings.simplefilter('ignore')\n",
    "import pandas as pd\n",
    "import os"
   ]
  },
  {
   "cell_type": "code",
   "execution_count": 134,
   "metadata": {
    "ExecuteTime": {
     "end_time": "2019-04-08T08:33:26.507926Z",
     "start_time": "2019-04-08T08:33:26.503927Z"
    }
   },
   "outputs": [],
   "source": [
    "def problem_1(state='CO'):\n",
    "    \"\"\"\n",
    "    READS CSV FILE OF REJECTED 755K-ROW LOAN APPLICATIONS\n",
    "    GROUPS DATA BY STATE AND RETURNS MEDIAN DEBT-TO-INCOME RATIO\n",
    "    IF NO INPUT GIVEN, DEFAULT STATE IS CO, COLORADO\n",
    "    \"\"\"\n",
    "    # need 'os' operating system module to generate file path thus code runs on any pc\n",
    "    BASE_DIR = os.getcwd() # base directory has the script/code\n",
    "    FILE_NAME_RJCT = 'loan_declines.csv' # constant for file name>merge for absolute path\n",
    "    PATH_ABS_REJECTED = os.path.join(BASE_DIR, FILE_NAME_RJCT) \n",
    "    rejected_df = pd.read_csv(PATH_ABS_REJECTED)\n",
    "    full_column_list = rejected_df.columns # need to locate debt2income ratio column\n",
    "    target_col = str(full_column_list[4])  # lets assign a variable to be on the safe side\n",
    "    mini_rej_df = rejected_df[[target_col, 'State']]\n",
    "    mini_rej_df['numbers_str'] = [percentage[:-1] for percentage in mini_rej_df[target_col]]\n",
    "    mini_rej_df['debt2incomeRatio'] = pd.to_numeric(mini_rej_df['numbers_str'])\n",
    "    state_med1an_df = mini_rej_df.groupby('State').median()['debt2incomeRatio']\n",
    "    state_med1an = state_med1an_df[state]\n",
    "    _out_prompt = str(\"Median for \" + state + \" state Debt-to-income-ratio is \" + str(state_med1an) + \" percent\")\n",
    "    return _out_prompt"
   ]
  },
  {
   "cell_type": "code",
   "execution_count": 133,
   "metadata": {
    "ExecuteTime": {
     "end_time": "2019-04-08T08:32:53.052175Z",
     "start_time": "2019-04-08T08:32:49.919798Z"
    }
   },
   "outputs": [
    {
     "data": {
      "text/plain": [
       "'Median for AK state Debt-to-income-ratio is 14.93 percent'"
      ]
     },
     "execution_count": 133,
     "metadata": {},
     "output_type": "execute_result"
    },
    {
     "data": {
      "text/plain": [
       "'Median for CO state Debt-to-income-ratio is 18.48 percent'"
      ]
     },
     "execution_count": 133,
     "metadata": {},
     "output_type": "execute_result"
    }
   ],
   "source": [
    "problem_1('AK')\n",
    "# 'Median for AK state Debt-to-income-ratio is 14.93 percent'\n",
    "problem_1()\n",
    "# 'Median for CO state Debt-to-income-ratio is 18.48 percent'"
   ]
  },
  {
   "cell_type": "code",
   "execution_count": 2,
   "metadata": {
    "ExecuteTime": {
     "end_time": "2019-04-08T06:15:31.361088Z",
     "start_time": "2019-04-08T06:15:31.356091Z"
    }
   },
   "outputs": [],
   "source": [
    "# Write a function called problem_1, which accepts a state abbreviation (eg 'PA') and\n",
    "# returns the median Debt to income ratio of rejected loan applications for that state.\n",
    "# =-=-=-=-=-=-=-=-=-=-=-=-=-=-=-=-=-=-=-=-=-=-=-=-=-=-=-=-=-=-\n",
    "from IPython.core.interactiveshell import InteractiveShell\n",
    "InteractiveShell.ast_node_interactivity = \"all\"\n",
    "import warnings; warnings.simplefilter('ignore')\n",
    "import pandas as pd\n",
    "import os\n",
    "\n",
    "def problem_1(state='CO'):\n",
    "    \"\"\"\n",
    "    READS CSV FILE OF REJECTED 755K-ROW LOAN APPLICATIONS\n",
    "    GROUPS DATA BY STATE AND RETURNS MEDIAN DEBT-TO-INCOME RATIO\n",
    "    IF NO INPUT GIVEN, DEFAULT STATE IS CO, COLORADO\n",
    "    \"\"\"\n",
    "    # need 'os' operating system module to generate file path thus code runs on any pc\n",
    "    BASE_DIR = os.getcwd() # base directory has the script/code\n",
    "    FILE_NAME_RJCT = 'loan_declines.csv' # constant for file name>merge for absolute path\n",
    "    PATH_ABS_REJECTED = os.path.join(BASE_DIR, FILE_NAME_RJCT) \n",
    "    rejected_df = pd.read_csv(PATH_ABS_REJECTED)\n",
    "    full_column_list = rejected_df.columns # need to locate debt2income ratio column\n",
    "    target_col = str(full_column_list[4])  # lets assign a variable to be on the safe side\n",
    "    mini_rej_df = rejected_df[[target_col, 'State']]\n",
    "    mini_rej_df['numbers_str'] = [percentage[:-1] for percentage in mini_rej_df[target_col]]\n",
    "    mini_rej_df['debt2incomeRatio'] = pd.to_numeric(mini_rej_df['numbers_str'])\n",
    "    state_med1an_df = mini_rej_df.groupby('State').median()['debt2incomeRatio']\n",
    "    state_med1an = state_med1an_df[state]\n",
    "    _out_prompt = str(\"Median for \" + state + \" state Debt-to-income-ratio is \" + str(state_med1an) + \" percent\")\n",
    "    return _out_prompt\n",
    "# =-=-=-=-=-=-=-=-=-=-=-=-=-=-=-=-=-=-=-=-=-=-=-=-=-=-=-=-=-=-\n",
    "problem_1('AK')\n",
    "# 'Median for AK state Debt-to-income-ratio is 14.93 percent'\n",
    "problem_1()\n",
    "# 'Median for CO state Debt-to-income-ratio is 18.48 percent'"
   ]
  },
  {
   "cell_type": "code",
   "execution_count": null,
   "metadata": {},
   "outputs": [],
   "source": []
  },
  {
   "cell_type": "code",
   "execution_count": null,
   "metadata": {},
   "outputs": [],
   "source": []
  }
 ],
 "metadata": {
  "kernelspec": {
   "display_name": "Python 3",
   "language": "python",
   "name": "python3"
  },
  "language_info": {
   "codemirror_mode": {
    "name": "ipython",
    "version": 3
   },
   "file_extension": ".py",
   "mimetype": "text/x-python",
   "name": "python",
   "nbconvert_exporter": "python",
   "pygments_lexer": "ipython3",
   "version": "3.6.5"
  },
  "varInspector": {
   "cols": {
    "lenName": 16,
    "lenType": 16,
    "lenVar": 40
   },
   "kernels_config": {
    "python": {
     "delete_cmd_postfix": "",
     "delete_cmd_prefix": "del ",
     "library": "var_list.py",
     "varRefreshCmd": "print(var_dic_list())"
    },
    "r": {
     "delete_cmd_postfix": ") ",
     "delete_cmd_prefix": "rm(",
     "library": "var_list.r",
     "varRefreshCmd": "cat(var_dic_list()) "
    }
   },
   "types_to_exclude": [
    "module",
    "function",
    "builtin_function_or_method",
    "instance",
    "_Feature"
   ],
   "window_display": false
  }
 },
 "nbformat": 4,
 "nbformat_minor": 2
}
