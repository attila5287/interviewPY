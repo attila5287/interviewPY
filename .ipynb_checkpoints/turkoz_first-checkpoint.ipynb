{
 "cells": [
  {
   "cell_type": "code",
   "execution_count": 1,
   "metadata": {
    "ExecuteTime": {
     "end_time": "2019-04-09T10:22:09.812964Z",
     "start_time": "2019-04-09T10:22:08.908488Z"
    }
   },
   "outputs": [],
   "source": [
    "# Write a function called problem_1, which accepts a state abbreviation (eg 'PA') and\n",
    "# returns the median Debt to income ratio of rejected loan applications for that state.\n",
    "# =-=-=-=-=-=-=-=-=-=-=-=-=-=-=-=-=-=-=-=-=-=-=-=-=-=-=-=-=-=-\n",
    "from IPython.core.interactiveshell import InteractiveShell\n",
    "InteractiveShell.ast_node_interactivity = \"all\"\n",
    "import warnings; warnings.simplefilter('ignore')\n",
    "import pandas as pd\n",
    "import os"
   ]
  },
  {
   "cell_type": "code",
   "execution_count": 2,
   "metadata": {
    "ExecuteTime": {
     "end_time": "2019-04-09T10:22:10.473583Z",
     "start_time": "2019-04-09T10:22:10.465588Z"
    }
   },
   "outputs": [],
   "source": [
    "def problem_1(state='CO'):\n",
    "    \"\"\"\n",
    "    READS CSV FILE OF REJECTED 755K-ROW LOAN APPLICATIONS\n",
    "    GROUPS DATA BY STATE AND RETURNS MEDIAN DEBT-TO-INCOME RATIO\n",
    "    IF NO INPUT GIVEN, DEFAULT STATE IS CO, COLORADO\n",
    "    \"\"\"\n",
    "    # need 'os' operating system module to generate file path thus code runs on any pc\n",
    "    BASE_DIR = os.getcwd() # base directory has the script/code\n",
    "    FILE_NAME_RJCT = 'loan_declines.csv' # constant for file name>merge for absolute path\n",
    "    PATH_ABS_REJECTED = os.path.join(BASE_DIR, FILE_NAME_RJCT) \n",
    "    rejected_df = pd.read_csv(PATH_ABS_REJECTED)\n",
    "    full_column_list = rejected_df.columns # need to locate debt2income ratio column\n",
    "    target_col = str(full_column_list[4])  # lets assign a variable to be on the safe side\n",
    "    mini_rej_df = rejected_df[[target_col, 'State']]\n",
    "    mini_rej_df['numbers_str'] = [percentage[:-1] for percentage in mini_rej_df[target_col]]\n",
    "    mini_rej_df['debt2incomeRatio'] = pd.to_numeric(mini_rej_df['numbers_str'])\n",
    "    state_med1an_df = mini_rej_df.groupby('State').median()['debt2incomeRatio']\n",
    "    state_med1an = state_med1an_df[state]\n",
    "    _out_prompt = str(\"Median for \" + state + \" state Debt-to-income-ratio is \" + str(state_med1an) + \" percent\")\n",
    "    print(_out_prompt)\n",
    "    return _out_prompt"
   ]
  },
  {
   "cell_type": "code",
   "execution_count": 3,
   "metadata": {
    "ExecuteTime": {
     "end_time": "2019-04-09T10:22:14.759249Z",
     "start_time": "2019-04-09T10:22:11.412774Z"
    }
   },
   "outputs": [
    {
     "name": "stdout",
     "output_type": "stream",
     "text": [
      "Median for AK state Debt-to-income-ratio is 14.93 percent\n"
     ]
    },
    {
     "data": {
      "text/plain": [
       "'Median for AK state Debt-to-income-ratio is 14.93 percent'"
      ]
     },
     "execution_count": 3,
     "metadata": {},
     "output_type": "execute_result"
    },
    {
     "name": "stdout",
     "output_type": "stream",
     "text": [
      "Median for CO state Debt-to-income-ratio is 18.48 percent\n"
     ]
    },
    {
     "data": {
      "text/plain": [
       "'Median for CO state Debt-to-income-ratio is 18.48 percent'"
      ]
     },
     "execution_count": 3,
     "metadata": {},
     "output_type": "execute_result"
    }
   ],
   "source": [
    "problem_1('AK')\n",
    "# 'Median for AK state Debt-to-income-ratio is 14.93 percent'\n",
    "problem_1()\n",
    "# 'Median for CO state Debt-to-income-ratio is 18.48 percent'"
   ]
  },
  {
   "cell_type": "code",
   "execution_count": 4,
   "metadata": {
    "ExecuteTime": {
     "end_time": "2019-04-09T10:22:15.021583Z",
     "start_time": "2019-04-09T10:22:14.769249Z"
    }
   },
   "outputs": [
    {
     "ename": "NameError",
     "evalue": "name 'bringStateList' is not defined",
     "output_type": "error",
     "traceback": [
      "\u001b[1;31m-----------------------------------------------------------\u001b[0m",
      "\u001b[1;31mNameError\u001b[0m                 Traceback (most recent call last)",
      "\u001b[1;32m<ipython-input-4-de9a8e36aad1>\u001b[0m in \u001b[0;36m<module>\u001b[1;34m()\u001b[0m\n\u001b[1;32m----> 1\u001b[1;33m \u001b[0mstate_list\u001b[0m \u001b[1;33m=\u001b[0m \u001b[0mbringStateList\u001b[0m\u001b[1;33m(\u001b[0m\u001b[1;33m)\u001b[0m\u001b[1;33m\u001b[0m\u001b[0m\n\u001b[0m\u001b[0;32m      2\u001b[0m \u001b[1;33m\u001b[0m\u001b[0m\n\u001b[0;32m      3\u001b[0m \u001b[1;32mfor\u001b[0m \u001b[0mstate\u001b[0m \u001b[1;32min\u001b[0m \u001b[0mstate_list\u001b[0m\u001b[1;33m:\u001b[0m\u001b[1;33m\u001b[0m\u001b[0m\n\u001b[0;32m      4\u001b[0m     \u001b[0mproblem_1\u001b[0m\u001b[1;33m(\u001b[0m\u001b[0mstate\u001b[0m\u001b[1;33m)\u001b[0m\u001b[1;33m\u001b[0m\u001b[0m\n",
      "\u001b[1;31mNameError\u001b[0m: name 'bringStateList' is not defined"
     ]
    }
   ],
   "source": [
    "state_list = bringStateList()\n",
    "\n",
    "for state in state_list:\n",
    "    problem_1(state)"
   ]
  },
  {
   "cell_type": "code",
   "execution_count": null,
   "metadata": {
    "ExecuteTime": {
     "end_time": "2019-04-09T10:22:15.026569Z",
     "start_time": "2019-04-09T10:22:13.027Z"
    }
   },
   "outputs": [],
   "source": [
    "def bringStateList():\n",
    "    # need 'os' operating system module to generate file path thus code runs on any pc\n",
    "    BASE_DIR = os.getcwd() # base directory has the script/code\n",
    "    FILE_NAME_RJCT = 'loan_declines.csv' # constant for file name>merge for absolute path\n",
    "    PATH_ABS_REJECTED = os.path.join(BASE_DIR, FILE_NAME_RJCT) \n",
    "    rejected_df = pd.read_csv(PATH_ABS_REJECTED)\n",
    "    _out_list = list(rejected_df['State'].unique())\n",
    "    return _out_list"
   ]
  },
  {
   "cell_type": "code",
   "execution_count": null,
   "metadata": {
    "ExecuteTime": {
     "end_time": "2019-04-09T10:22:15.029568Z",
     "start_time": "2019-04-09T10:22:14.362Z"
    }
   },
   "outputs": [],
   "source": [
    "def bringStateList():\n",
    "    # need 'os' operating system module to generate file path thus code runs on any pc\n",
    "    BASE_DIR = os.getcwd() # base directory has the script/code\n",
    "    FILE_NAME_RJCT = 'loan_declines.csv' # constant for file name>merge for absolute path\n",
    "    PATH_ABS_REJECTED = os.path.join(BASE_DIR, FILE_NAME_RJCT) \n",
    "    rejected_df = pd.read_csv(PATH_ABS_REJECTED).sort_values(by='State',ascending=True)\n",
    "    _out_list = list(rejected_df['State'].unique())\n",
    "    return _out_list\n",
    "\n",
    "bringStateList()"
   ]
  },
  {
   "cell_type": "code",
   "execution_count": 77,
   "metadata": {
    "ExecuteTime": {
     "end_time": "2019-04-09T11:14:01.786818Z",
     "start_time": "2019-04-09T11:14:00.223720Z"
    }
   },
   "outputs": [
    {
     "name": "stdout",
     "output_type": "stream",
     "text": [
      " ================ DESCRIPTION ----------------- \n",
      "       debt2incomeRatio\n",
      "count         51.000000\n",
      "mean          16.869804\n",
      "std            2.805347\n",
      "min           10.555000\n",
      "25%           14.845000\n",
      "50%           16.800000\n",
      "75%           18.547500\n",
      "max           22.920000\n",
      " =========== STATE-DEBT-TO-IN-RAT-MEDIAN ------ \n",
      "State\n",
      "AK    14.930\n",
      "AL    17.760\n",
      "AR    17.715\n",
      "AZ    16.730\n",
      "CA    14.610\n",
      "CO    18.480\n",
      "CT    14.720\n",
      "DC    10.555\n",
      "DE    17.975\n",
      "FL    15.130\n",
      "GA    15.555\n",
      "HI    18.950\n",
      "IA    15.995\n",
      "ID    11.590\n",
      "IL    16.800\n",
      "IN    15.015\n",
      "KS    19.600\n",
      "KY    18.595\n",
      "LA    17.680\n",
      "MA    14.760\n",
      "MD    14.350\n",
      "ME    14.450\n",
      "MI    16.380\n",
      "MN    16.080\n",
      "MO    19.030\n",
      "MS    12.560\n",
      "MT    20.905\n",
      "NC    16.660\n",
      "ND    11.290\n",
      "NE    18.910\n",
      "NH    18.500\n",
      "NJ    14.510\n",
      "NM    20.960\n",
      "NV    15.830\n",
      "NY    13.390\n",
      "OH    18.300\n",
      "OK    20.880\n",
      "OR    16.665\n",
      "PA    18.060\n",
      "RI    14.570\n",
      "SC    17.290\n",
      "SD    22.920\n",
      "TN    11.770\n",
      "TX    19.310\n",
      "UT    18.280\n",
      "VA    17.710\n",
      "VT    21.240\n",
      "WA    16.700\n",
      "WI    17.980\n",
      "WV    19.570\n",
      "WY    22.165\n",
      "Name: debt2incomeRatio, dtype: float64\n",
      "  --------------- ================ \n"
     ]
    }
   ],
   "source": [
    "def makeEmallRain():\n",
    "    \"\"\"\n",
    "    MODIFIED, FASTER VERSION OF makeEmRain() COMBINED WITH problem_1() \n",
    "    READS CSV FILE OF REJECTED 755K-ROW LOAN APPLICATIONS\n",
    "    GROUPS DATA BY STATE AND RETURNS MEDIAN DEBT-TO-INCOME RATIO\n",
    "    FOR ALL STATES. NO PARAMETERS REQ'D RETURNS NONE. PROMPT ONLY\n",
    "    \"\"\"\n",
    "    # need 'os' operating system module to generate file path thus code runs on any pc\n",
    "    BASE_DIR = os.getcwd() # base directory has the script/code\n",
    "    FILE_NAME_RJCT = 'loan_declines.csv' # constant for file name>merge for absolute path\n",
    "    PATH_ABS_REJECTED = os.path.join(BASE_DIR, FILE_NAME_RJCT) \n",
    "    rejected_df = pd.read_csv(PATH_ABS_REJECTED)\n",
    "    full_column_list = rejected_df.columns # need to locate debt2income ratio column\n",
    "    target_col = str(full_column_list[4])  # lets assign a variable to be on the safe side\n",
    "    mini_rej_df = rejected_df[[target_col, 'State']]\n",
    "    mini_rej_df['numbers_str'] = [percentage[:-1] for percentage in mini_rej_df[target_col]]\n",
    "    mini_rej_df['debt2incomeRatio'] = pd.to_numeric(mini_rej_df['numbers_str'])\n",
    "    state_med1an_df = pd.DataFrame(mini_rej_df.groupby('State').median())\n",
    "#     print(state_med1an_df.index)\n",
    "    print(\" ================ DESCRIPTION ----------------- \")\n",
    "    print(state_med1an_df.describe())\n",
    "    print(\" =========== STATE-DEBT-TO-IN-RAT-MEDIAN ------ \")\n",
    "    print(state_med1an_df['debt2incomeRatio'])\n",
    "    print(\"  --------------- ================ \")\n",
    "    return None\n",
    "\n",
    "\n",
    "makeEmallRain()"
   ]
  },
  {
   "cell_type": "code",
   "execution_count": null,
   "metadata": {},
   "outputs": [],
   "source": []
  },
  {
   "cell_type": "code",
   "execution_count": null,
   "metadata": {},
   "outputs": [],
   "source": []
  },
  {
   "cell_type": "code",
   "execution_count": null,
   "metadata": {},
   "outputs": [],
   "source": []
  },
  {
   "cell_type": "code",
   "execution_count": null,
   "metadata": {},
   "outputs": [],
   "source": []
  }
 ],
 "metadata": {
  "kernelspec": {
   "display_name": "Python 3",
   "language": "python",
   "name": "python3"
  },
  "language_info": {
   "codemirror_mode": {
    "name": "ipython",
    "version": 3
   },
   "file_extension": ".py",
   "mimetype": "text/x-python",
   "name": "python",
   "nbconvert_exporter": "python",
   "pygments_lexer": "ipython3",
   "version": "3.6.5"
  },
  "varInspector": {
   "cols": {
    "lenName": 16,
    "lenType": 16,
    "lenVar": 40
   },
   "kernels_config": {
    "python": {
     "delete_cmd_postfix": "",
     "delete_cmd_prefix": "del ",
     "library": "var_list.py",
     "varRefreshCmd": "print(var_dic_list())"
    },
    "r": {
     "delete_cmd_postfix": ") ",
     "delete_cmd_prefix": "rm(",
     "library": "var_list.r",
     "varRefreshCmd": "cat(var_dic_list()) "
    }
   },
   "types_to_exclude": [
    "module",
    "function",
    "builtin_function_or_method",
    "instance",
    "_Feature"
   ],
   "window_display": false
  }
 },
 "nbformat": 4,
 "nbformat_minor": 2
}
