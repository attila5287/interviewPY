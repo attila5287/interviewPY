{
 "cells": [
  {
   "cell_type": "code",
   "execution_count": 1,
   "metadata": {
    "ExecuteTime": {
     "end_time": "2019-04-02T04:38:01.414561Z",
     "start_time": "2019-04-02T04:38:00.182158Z"
    }
   },
   "outputs": [],
   "source": [
    "from IPython.core.interactiveshell import InteractiveShell\n",
    "InteractiveShell.ast_node_interactivity = \"all\"\n",
    "import pandas as pd\n",
    "import datetime as dt\n",
    "from datetime import timedelta\n",
    "import warnings; warnings.simplefilter('ignore')"
   ]
  },
  {
   "cell_type": "code",
   "execution_count": 2,
   "metadata": {
    "ExecuteTime": {
     "end_time": "2019-04-02T04:38:02.348339Z",
     "start_time": "2019-04-02T04:38:02.344342Z"
    }
   },
   "outputs": [],
   "source": [
    "# dates sent with assignment stored thus named as constansts\n",
    "TEST_STARTDATE = '2011-1-2'\n",
    "TEST_ENDDATE = '2011-4-5'"
   ]
  },
  {
   "cell_type": "code",
   "execution_count": 72,
   "metadata": {
    "ExecuteTime": {
     "end_time": "2019-04-02T05:23:47.087626Z",
     "start_time": "2019-04-02T05:23:47.083628Z"
    }
   },
   "outputs": [],
   "source": [
    "def adjustDateOffset(date_string):\n",
    "    \"\"\"\n",
    "    RETURNS DATE AS STRING FOR DATETIME SERIES FUNC CALLS\n",
    "    REQUIRES Y-m-d FORMAT\n",
    "    \"\"\"\n",
    "    _date_string = str(date_string)\n",
    "    _dt = dt.datetime.strptime(_date_string,'%Y-%m-%d').replace(day=1)\n",
    "    _dt_date = _dt.date() #date has no time hour min etc. only year month day\n",
    "    y = _dt_date.year\n",
    "    m = _dt_date.month\n",
    "    d = _dt_date.day\n",
    "    return str(dt.datetime(y, m,d).date())"
   ]
  },
  {
   "cell_type": "code",
   "execution_count": 73,
   "metadata": {
    "ExecuteTime": {
     "end_time": "2019-04-02T05:23:47.372130Z",
     "start_time": "2019-04-02T05:23:47.367114Z"
    }
   },
   "outputs": [
    {
     "data": {
      "text/plain": [
       "'2011-01-01'"
      ]
     },
     "execution_count": 73,
     "metadata": {},
     "output_type": "execute_result"
    }
   ],
   "source": [
    "adjustDateOffset(TEST_STARTDATE)"
   ]
  },
  {
   "cell_type": "code",
   "execution_count": 78,
   "metadata": {
    "ExecuteTime": {
     "end_time": "2019-04-02T05:25:55.632478Z",
     "start_time": "2019-04-02T05:25:55.615487Z"
    }
   },
   "outputs": [],
   "source": [
    "def problem_2(date_start, date_end):\n",
    "    \"\"\"\n",
    "    - Accepts a date range and returns a dictionary of the percentage of loans approved over that time period.\n",
    "    - Aggregatesresults by month, and includes the entire month if any part of it is in the request. \n",
    "          For example: problem_2('2011-1-5','2011-1-7') would consider ALL records for January 2011. \n",
    "    - Assumes that loans are immediately approved/funded upon application \n",
    "                (eg. Application date/ fund date/ decline date are all equivalent.) \n",
    "    - Example call, response: problem_2(‘2011-1-2’, ‘2011-4-5’) might return\n",
    "    {‘2011/1/1’ : 0.091 , ‘2011/2/1’ :  0.081, ‘2011/3/1’ :  0.074, ‘2011/4/1’ : 0.082}\n",
    "    \"\"\"\n",
    "    def monthlyLoanRejectedDFramer(date_start,date_end):\n",
    "        \"\"\"REQUIRES START AND END DATE AS PARAMETERS, \n",
    "        RETURNS A DATAFRAME DT-DATE INDEXED GROUPED UNDER MONTHLY FREQ\n",
    "        //IGNORES DAY ON INPUT DATES AND RETURNS MONTHLY GROUPED REJECTION COUNT AS VALUES// \n",
    "        \"\"\"\n",
    "        file_path_rej = 'loan_declines.csv'\n",
    "        dataRejected = pd.read_csv(file_path_rej)\n",
    "        rejected_df = dataRejected.groupby('Application Date').count().reset_index().dropna()\n",
    "        rejected_df['ApplicationDate_str'] = [ str(dateApp ) for dateApp in rejected_df['Application Date'] ]\n",
    "        rejected_df['date_dt'] = [dt.datetime.strptime(dateApp,'%m/%d/%Y') for dateApp in rejected_df['ApplicationDate_str']]\n",
    "        rejectedmini_df = rejected_df[['Policy Code','date_dt']]\n",
    "        rejectedmini_df['yearM0nth'] = rejectedmini_df['date_dt'].map(lambda dt: dt.replace(day=1))\n",
    "        rejectedFinal_df = rejectedmini_df.groupby('yearM0nth').sum()\n",
    "        date_start_adj = adjustDateOffset(date_start)\n",
    "        return rejectedFinal_df.loc[date_start_adj:date_end]\n",
    "\n",
    "    def monthlyLoanApprovedDFramer(date_start,date_end):\n",
    "        \"\"\"\n",
    "        REQUIRES START AND END DATE AS PARAMETERS, \n",
    "        RETURNS A DATAFRAME DT-DATE INDEXED GROUPED UNDER MONTHLY FREQ\n",
    "        // NO DAILY BREAKDOWN PROVIDED THUS MONTHLY COUNT ONLY //\n",
    "        \"\"\"\n",
    "        file_path_approved = 'loan_approvals.csv'\n",
    "        appRaw_df = pd.read_csv(file_path_approved)\n",
    "        appGrpDate_df = appRaw_df.groupby('issue_d').count().reset_index().dropna()\n",
    "        approvedMini_df = appGrpDate_df[['issue_d', 'policy_code']]\n",
    "        approvedMini_df['date_dt'] = [dt.datetime.strptime(issueDate,'%b-%y') for issueDate in appGrpDate_df['issue_d']]\n",
    "        date_start_adj = adjustDateOffset(date_start) #removes the bias-offset\n",
    "        return approvedMini_df.groupby('date_dt').sum()[date_start_adj : date_end]\n",
    "\n",
    "    def buildPercAppList(date_zer0, date_aga1n):\n",
    "        \"\"\"\n",
    "        RETURNS A LIST OF PERCENTAGE RATIO FOR LOAN APPLICATIONS\n",
    "        \"\"\"\n",
    "        rej_df = monthlyLoanRejectedDFramer(date_zer0,date_aga1n)\n",
    "        rejected_list = rej_df['Policy Code']\n",
    "        app_df = monthlyLoanApprovedDFramer(date_zer0, date_aga1n)\n",
    "        approved_list = app_df['policy_code']\n",
    "    # --------------- --------------- ---------------\n",
    "        all_list, perc_formatted_list, percentage_approved_list = [],[],[]\n",
    "        all_list = [int(approved+rejected) for approved, rejected in zip(approved_list, rejected_list)]\n",
    "    #  --------------- --------------- --------------- ---------------\n",
    "        for approved, total in zip(approved_list,all_list):\n",
    "            perc_app = int(approved)/int(total)\n",
    "            percentage_approved_list.append(perc_app)\n",
    "            perc_formatted = '{:,.1%} '.format(perc_app)\n",
    "            perc_formatted_list.append(perc_formatted)\n",
    "\n",
    "        _out = perc_formatted_list\n",
    "        return _out\n",
    "\n",
    "    def buildDateListStr(date_zer0, date_aga1n) :\n",
    "        # first list for dictionary, keys \n",
    "        dates_list = monthlyLoanApprovedDFramer(date_zer0, date_aga1n).index\n",
    "        dates_list_str = dates_list.astype('S')\n",
    "        return dates_list_str\n",
    "\n",
    "    def buildFinalDict(date_zer0, date_aga1n):\n",
    "        dateRange_results =  buildDateListStr(date_zer0, date_aga1n)\n",
    "        perc_results = buildPercAppList(date_zer0,date_aga1n)\n",
    "\n",
    "        _out = dict(zip(dateRange_results,perc_results))\n",
    "#         print(_out)\n",
    "        return dict(zip(dateRange_results,perc_results))\n",
    "\n",
    "    _outFnlDict = buildFinalDict(date_start,date_end)\n",
    "\n",
    "    return _outFnlDict"
   ]
  },
  {
   "cell_type": "code",
   "execution_count": 113,
   "metadata": {
    "ExecuteTime": {
     "end_time": "2019-04-02T06:18:40.807633Z",
     "start_time": "2019-04-02T06:18:37.772385Z"
    }
   },
   "outputs": [
    {
     "data": {
      "text/plain": [
       "{'2011-01-01': '9.1% ',\n",
       " '2011-02-01': '8.1% ',\n",
       " '2011-03-01': '7.5% ',\n",
       " '2011-04-01': '8.2% '}"
      ]
     },
     "execution_count": 113,
     "metadata": {},
     "output_type": "execute_result"
    }
   ],
   "source": [
    "problem_2(TEST_STARTDATE, TEST_ENDDATE)"
   ]
  },
  {
   "cell_type": "code",
   "execution_count": null,
   "metadata": {},
   "outputs": [],
   "source": []
  },
  {
   "cell_type": "code",
   "execution_count": null,
   "metadata": {},
   "outputs": [],
   "source": []
  },
  {
   "cell_type": "code",
   "execution_count": 134,
   "metadata": {
    "ExecuteTime": {
     "end_time": "2019-04-02T06:42:47.038427Z",
     "start_time": "2019-04-02T06:42:47.018439Z"
    }
   },
   "outputs": [],
   "source": [
    "import pandas as pd\n",
    "import datetime as dt\n",
    "import warnings; warnings.simplefilter('ignore')\n",
    "\n",
    "# dates sent with assignment stored thus named as constansts\n",
    "TEST_STARTDATE = '2011-1-2'\n",
    "TEST_ENDDATE = '2011-4-5'\n",
    "\n",
    "def problem_2(date_start, date_end):\n",
    "    \"\"\"\n",
    "    - Accepts a date range and returns a dictionary of the percentage of loans approved over that time period.\n",
    "    - Aggregatesresults by month, and includes the entire month if any part of it is in the request. \n",
    "          For example: problem_2('2011-1-5','2011-1-7') would consider ALL records for January 2011. \n",
    "    - Assumes that loans are immediately approved/funded upon application \n",
    "                (eg. Application date/ fund date/ decline date are all equivalent.) \n",
    "    - Example call, response: problem_2(‘2011-1-2’, ‘2011-4-5’) might return\n",
    "    {‘2011/1/1’ : 0.091 , ‘2011/2/1’ :  0.081, ‘2011/3/1’ :  0.074, ‘2011/4/1’ : 0.082}\n",
    "    \"\"\"\n",
    "    def adjustDatetime(date_string):\n",
    "        \"\"\"\n",
    "        RETURNS DATE AS STRING FOR DATETIME SERIES FUNC CALLS\n",
    "        ONLY REQUIRED FOR NEXT FUNCTION METHOD\n",
    "        \"\"\"\n",
    "        _date_string = str(date_string)\n",
    "        _dt = dt.datetime.strptime(_date_string,'%Y-%m-%d').replace(day=1)\n",
    "        _dt_date = _dt.date() #date has no time hour min etc. only year month day\n",
    "        y, m ,d = _dt_date.year, _dt_date.month, _dt_date.day\n",
    "        return str(dt.datetime(y, m,d).date())\n",
    "\n",
    "    def monthlyLoanRejectedDFramer(date_start,date_end):\n",
    "        \"\"\"REQUIRES START AND END DATE AS PARAMETERS, \n",
    "        RETURNS A DATAFRAME DT-DATE INDEXED GROUPED UNDER MONTHLY FREQ\n",
    "        //IGNORES DAY ON INPUT DATES AND RETURNS MONTHLY GROUPED REJECTION COUNT AS VALUES// \n",
    "        \"\"\"\n",
    "        file_path_rej = 'loan_declines.csv'\n",
    "        dataRejected = pd.read_csv(file_path_rej)\n",
    "        rejected_df = rejected_df[['Policy Code', 'Application Date']]\n",
    "        rejected_df = dataRejected.groupby('Application Date').count().reset_index().dropna()\n",
    "        rejected_df['ApplicationDate_str'] = [ str(dateApp ) for dateApp in rejected_df['Application Date'] ]\n",
    "        rejected_df['date_dt'] = [dt.datetime.strptime(dateApp,'%m/%d/%Y') for dateApp in rejected_df['ApplicationDate_str']]\n",
    "        rejectedmini_df = rejected_df[['Policy Code','date_dt']]\n",
    "        rejectedmini_df['yearM0nth'] = rejectedmini_df['date_dt'].map(lambda dt: dt.replace(day=1))\n",
    "        rejectedFinal_df = rejectedmini_df.groupby('yearM0nth').sum()\n",
    "        date_start_adj = adjustDatetime(date_start)\n",
    "        date_end_adj = adjustDatetime(date_start)\n",
    "        __df = rejectedFinal_df.loc[date_start_adj:date_end]\n",
    "        return __df\n",
    "\n",
    "    def monthlyLoanApprovedDFramer(date_start,date_end):\n",
    "        \"\"\"\n",
    "        REQUIRES START AND END DATE AS PARAMETERS, \n",
    "        RETURNS A DATAFRAME DT-DATE INDEXED GROUPED UNDER MONTHLY FREQ\n",
    "        // NO DAILY BREAKDOWN PROVIDED THUS MONTHLY COUNT ONLY //\n",
    "        \"\"\"\n",
    "        file_path_approved = 'loan_approvals.csv'\n",
    "        appRaw_df = pd.read_csv(file_path_approved)\n",
    "        appGrpDate_df = appRaw_df.groupby('issue_d').count().reset_index().dropna()\n",
    "        approvedMini_df = appGrpDate_df[['issue_d', 'policy_code']]\n",
    "        approvedMini_df['date_dt'] = [dt.datetime.strptime(issueDate,'%b-%y') for issueDate in appGrpDate_df['issue_d']]\n",
    "        date_start_adj = adjustDateOffset(date_start) #removes the bias-offset\n",
    "        return approvedMini_df.groupby('date_dt').sum()[date_start_adj : date_end]\n",
    "\n",
    "    def buildPercAppList(date_zer0, date_aga1n):\n",
    "        \"\"\"\n",
    "        RETURNS A LIST OF PERCENTAGE RATIO FOR LOAN APPLICATIONS\n",
    "        \"\"\"\n",
    "        rej_df = monthlyLoanRejectedDFramer(date_zer0,date_aga1n)\n",
    "        rejected_list = rej_df['Policy Code']\n",
    "        app_df = monthlyLoanApprovedDFramer(date_zer0, date_aga1n)\n",
    "        approved_list = app_df['policy_code']\n",
    "    # --------------- --------------- ---------------\n",
    "        all_list, perc_formatted_list, percentage_approved_list = [],[],[]\n",
    "        all_list = [int(approved+rejected) for approved, rejected in zip(approved_list, rejected_list)]\n",
    "    #  --------------- --------------- --------------- ---------------\n",
    "        for approved, total in zip(approved_list,all_list):\n",
    "            perc_app = int(approved)/int(total)\n",
    "            percentage_approved_list.append(perc_app)\n",
    "            perc_formatted = '{:,.1%} '.format(perc_app)\n",
    "            perc_formatted_list.append(perc_formatted)\n",
    "\n",
    "        _out = perc_formatted_list\n",
    "        return _out\n",
    "\n",
    "    def buildDateListStr(date_zer0, date_aga1n) :\n",
    "        # first list for dictionary, keys \n",
    "        dates_list = monthlyLoanApprovedDFramer(date_zer0, date_aga1n).index\n",
    "        dates_list_str = dates_list.astype('S')\n",
    "        return dates_list_str\n",
    "\n",
    "    def buildFinalDict(date_zer0, date_aga1n):\n",
    "        dateRange_results =  buildDateListStr(date_zer0, date_aga1n)\n",
    "        perc_results = buildPercAppList(date_zer0,date_aga1n)\n",
    "\n",
    "        _out = dict(zip(dateRange_results,perc_results))\n",
    "#         print(_out)\n",
    "        return _out\n",
    "\n",
    "    _outFnlDict = buildFinalDict(date_start,date_end)\n",
    "\n",
    "    return _outFnlDict\n"
   ]
  },
  {
   "cell_type": "code",
   "execution_count": 135,
   "metadata": {
    "ExecuteTime": {
     "end_time": "2019-04-02T06:42:50.371163Z",
     "start_time": "2019-04-02T06:42:48.593189Z"
    }
   },
   "outputs": [
    {
     "ename": "UnboundLocalError",
     "evalue": "local variable 'rejected_df' referenced before assignment",
     "output_type": "error",
     "traceback": [
      "\u001b[1;31m---------------------------------------------------------------\u001b[0m",
      "\u001b[1;31mUnboundLocalError\u001b[0m             Traceback (most recent call last)",
      "\u001b[1;32m<ipython-input-135-cb6fe3b06c29>\u001b[0m in \u001b[0;36m<module>\u001b[1;34m\u001b[0m\n\u001b[1;32m----> 1\u001b[1;33m \u001b[0mproblem_2\u001b[0m\u001b[1;33m(\u001b[0m\u001b[0mTEST_STARTDATE\u001b[0m\u001b[1;33m,\u001b[0m \u001b[0mTEST_ENDDATE\u001b[0m\u001b[1;33m)\u001b[0m\u001b[1;33m\u001b[0m\u001b[0m\n\u001b[0m\u001b[0;32m      2\u001b[0m \u001b[1;31m# executed in 3.01 seconds TOTAL TIME\u001b[0m\u001b[1;33m\u001b[0m\u001b[1;33m\u001b[0m\u001b[0m\n",
      "\u001b[1;32m<ipython-input-134-0b0c28d68028>\u001b[0m in \u001b[0;36mproblem_2\u001b[1;34m(date_start, date_end)\u001b[0m\n\u001b[0;32m     96\u001b[0m         \u001b[1;32mreturn\u001b[0m \u001b[0m_out\u001b[0m\u001b[1;33m\u001b[0m\u001b[0m\n\u001b[0;32m     97\u001b[0m \u001b[1;33m\u001b[0m\u001b[0m\n\u001b[1;32m---> 98\u001b[1;33m     \u001b[0m_outFnlDict\u001b[0m \u001b[1;33m=\u001b[0m \u001b[0mbuildFinalDict\u001b[0m\u001b[1;33m(\u001b[0m\u001b[0mdate_start\u001b[0m\u001b[1;33m,\u001b[0m\u001b[0mdate_end\u001b[0m\u001b[1;33m)\u001b[0m\u001b[1;33m\u001b[0m\u001b[0m\n\u001b[0m\u001b[0;32m     99\u001b[0m \u001b[1;33m\u001b[0m\u001b[0m\n\u001b[0;32m    100\u001b[0m     \u001b[1;32mreturn\u001b[0m \u001b[0m_outFnlDict\u001b[0m\u001b[1;33m\u001b[0m\u001b[0m\n",
      "\u001b[1;32m<ipython-input-134-0b0c28d68028>\u001b[0m in \u001b[0;36mbuildFinalDict\u001b[1;34m(date_zer0, date_aga1n)\u001b[0m\n\u001b[0;32m     90\u001b[0m     \u001b[1;32mdef\u001b[0m \u001b[0mbuildFinalDict\u001b[0m\u001b[1;33m(\u001b[0m\u001b[0mdate_zer0\u001b[0m\u001b[1;33m,\u001b[0m \u001b[0mdate_aga1n\u001b[0m\u001b[1;33m)\u001b[0m\u001b[1;33m:\u001b[0m\u001b[1;33m\u001b[0m\u001b[0m\n\u001b[0;32m     91\u001b[0m         \u001b[0mdateRange_results\u001b[0m \u001b[1;33m=\u001b[0m  \u001b[0mbuildDateListStr\u001b[0m\u001b[1;33m(\u001b[0m\u001b[0mdate_zer0\u001b[0m\u001b[1;33m,\u001b[0m \u001b[0mdate_aga1n\u001b[0m\u001b[1;33m)\u001b[0m\u001b[1;33m\u001b[0m\u001b[0m\n\u001b[1;32m---> 92\u001b[1;33m         \u001b[0mperc_results\u001b[0m \u001b[1;33m=\u001b[0m \u001b[0mbuildPercAppList\u001b[0m\u001b[1;33m(\u001b[0m\u001b[0mdate_zer0\u001b[0m\u001b[1;33m,\u001b[0m\u001b[0mdate_aga1n\u001b[0m\u001b[1;33m)\u001b[0m\u001b[1;33m\u001b[0m\u001b[0m\n\u001b[0m\u001b[0;32m     93\u001b[0m \u001b[1;33m\u001b[0m\u001b[0m\n\u001b[0;32m     94\u001b[0m         \u001b[0m_out\u001b[0m \u001b[1;33m=\u001b[0m \u001b[0mdict\u001b[0m\u001b[1;33m(\u001b[0m\u001b[0mzip\u001b[0m\u001b[1;33m(\u001b[0m\u001b[0mdateRange_results\u001b[0m\u001b[1;33m,\u001b[0m\u001b[0mperc_results\u001b[0m\u001b[1;33m)\u001b[0m\u001b[1;33m)\u001b[0m\u001b[1;33m\u001b[0m\u001b[0m\n",
      "\u001b[1;32m<ipython-input-134-0b0c28d68028>\u001b[0m in \u001b[0;36mbuildPercAppList\u001b[1;34m(date_zer0, date_aga1n)\u001b[0m\n\u001b[0;32m     65\u001b[0m         \u001b[0mRETURNS\u001b[0m \u001b[0mA\u001b[0m \u001b[0mLIST\u001b[0m \u001b[0mOF\u001b[0m \u001b[0mPERCENTAGE\u001b[0m \u001b[0mRATIO\u001b[0m \u001b[0mFOR\u001b[0m \u001b[0mLOAN\u001b[0m \u001b[0mAPPLICATIONS\u001b[0m\u001b[1;33m\u001b[0m\u001b[0m\n\u001b[0;32m     66\u001b[0m         \"\"\"\n\u001b[1;32m---> 67\u001b[1;33m         \u001b[0mrej_df\u001b[0m \u001b[1;33m=\u001b[0m \u001b[0mmonthlyLoanRejectedDFramer\u001b[0m\u001b[1;33m(\u001b[0m\u001b[0mdate_zer0\u001b[0m\u001b[1;33m,\u001b[0m\u001b[0mdate_aga1n\u001b[0m\u001b[1;33m)\u001b[0m\u001b[1;33m\u001b[0m\u001b[0m\n\u001b[0m\u001b[0;32m     68\u001b[0m         \u001b[0mrejected_list\u001b[0m \u001b[1;33m=\u001b[0m \u001b[0mrej_df\u001b[0m\u001b[1;33m[\u001b[0m\u001b[1;34m'Policy Code'\u001b[0m\u001b[1;33m]\u001b[0m\u001b[1;33m\u001b[0m\u001b[0m\n\u001b[0;32m     69\u001b[0m         \u001b[0mapp_df\u001b[0m \u001b[1;33m=\u001b[0m \u001b[0mmonthlyLoanApprovedDFramer\u001b[0m\u001b[1;33m(\u001b[0m\u001b[0mdate_zer0\u001b[0m\u001b[1;33m,\u001b[0m \u001b[0mdate_aga1n\u001b[0m\u001b[1;33m)\u001b[0m\u001b[1;33m\u001b[0m\u001b[0m\n",
      "\u001b[1;32m<ipython-input-134-0b0c28d68028>\u001b[0m in \u001b[0;36mmonthlyLoanRejectedDFramer\u001b[1;34m(date_start, date_end)\u001b[0m\n\u001b[0;32m     35\u001b[0m         \u001b[0mfile_path_rej\u001b[0m \u001b[1;33m=\u001b[0m \u001b[1;34m'loan_declines.csv'\u001b[0m\u001b[1;33m\u001b[0m\u001b[0m\n\u001b[0;32m     36\u001b[0m         \u001b[0mdataRejected\u001b[0m \u001b[1;33m=\u001b[0m \u001b[0mpd\u001b[0m\u001b[1;33m.\u001b[0m\u001b[0mread_csv\u001b[0m\u001b[1;33m(\u001b[0m\u001b[0mfile_path_rej\u001b[0m\u001b[1;33m)\u001b[0m\u001b[1;33m\u001b[0m\u001b[0m\n\u001b[1;32m---> 37\u001b[1;33m         \u001b[0mrejected_df\u001b[0m \u001b[1;33m=\u001b[0m \u001b[0mrejected_df\u001b[0m\u001b[1;33m[\u001b[0m\u001b[1;33m[\u001b[0m\u001b[1;34m'Policy Code'\u001b[0m\u001b[1;33m,\u001b[0m \u001b[1;34m'Application Date'\u001b[0m\u001b[1;33m]\u001b[0m\u001b[1;33m]\u001b[0m\u001b[1;33m\u001b[0m\u001b[0m\n\u001b[0m\u001b[0;32m     38\u001b[0m         \u001b[0mrejected_df\u001b[0m \u001b[1;33m=\u001b[0m \u001b[0mdataRejected\u001b[0m\u001b[1;33m.\u001b[0m\u001b[0mgroupby\u001b[0m\u001b[1;33m(\u001b[0m\u001b[1;34m'Application Date'\u001b[0m\u001b[1;33m)\u001b[0m\u001b[1;33m.\u001b[0m\u001b[0mcount\u001b[0m\u001b[1;33m(\u001b[0m\u001b[1;33m)\u001b[0m\u001b[1;33m.\u001b[0m\u001b[0mreset_index\u001b[0m\u001b[1;33m(\u001b[0m\u001b[1;33m)\u001b[0m\u001b[1;33m.\u001b[0m\u001b[0mdropna\u001b[0m\u001b[1;33m(\u001b[0m\u001b[1;33m)\u001b[0m\u001b[1;33m\u001b[0m\u001b[0m\n\u001b[0;32m     39\u001b[0m         \u001b[0mrejected_df\u001b[0m\u001b[1;33m[\u001b[0m\u001b[1;34m'ApplicationDate_str'\u001b[0m\u001b[1;33m]\u001b[0m \u001b[1;33m=\u001b[0m \u001b[1;33m[\u001b[0m \u001b[0mstr\u001b[0m\u001b[1;33m(\u001b[0m\u001b[0mdateApp\u001b[0m \u001b[1;33m)\u001b[0m \u001b[1;32mfor\u001b[0m \u001b[0mdateApp\u001b[0m \u001b[1;32min\u001b[0m \u001b[0mrejected_df\u001b[0m\u001b[1;33m[\u001b[0m\u001b[1;34m'Application Date'\u001b[0m\u001b[1;33m]\u001b[0m \u001b[1;33m]\u001b[0m\u001b[1;33m\u001b[0m\u001b[0m\n",
      "\u001b[1;31mUnboundLocalError\u001b[0m: local variable 'rejected_df' referenced before assignment"
     ]
    }
   ],
   "source": [
    "problem_2(TEST_STARTDATE, TEST_ENDDATE)\n",
    "# executed in 3.01 seconds TOTAL TIME"
   ]
  },
  {
   "cell_type": "code",
   "execution_count": 104,
   "metadata": {
    "ExecuteTime": {
     "end_time": "2019-04-02T06:09:30.517456Z",
     "start_time": "2019-04-02T06:09:30.511445Z"
    }
   },
   "outputs": [],
   "source": [
    "def monthlyLoanApprovedDFramer(date_start,date_end):\n",
    "    \"\"\"\n",
    "    REQUIRES START AND END DATE AS PARAMETERS, \n",
    "    RETURNS A DATAFRAME DT-DATE INDEXED GROUPED UNDER MONTHLY FREQ\n",
    "    // NO DAILY BREAKDOWN PROVIDED THUS MONTHLY COUNT ONLY //\n",
    "    \"\"\"\n",
    "    file_path_approved = 'loan_approvals.csv'\n",
    "    appRaw_df = pd.read_csv(file_path_approved)\n",
    "    appGrpDate_df = appRaw_df.groupby('issue_d').count().reset_index().dropna()\n",
    "    approvedMini_df = appGrpDate_df[['issue_d', 'policy_code']]\n",
    "    approvedMini_df['date_dt'] = [dt.datetime.strptime(issueDate,'%b-%y') for issueDate in appGrpDate_df['issue_d']]\n",
    "    date_start_adj = adjustDateOffset(date_start) #removes the bias-offset\n",
    "    return approvedMini_df.groupby('date_dt').sum()[date_start_adj : date_end]"
   ]
  },
  {
   "cell_type": "code",
   "execution_count": 108,
   "metadata": {
    "ExecuteTime": {
     "end_time": "2019-04-02T06:10:22.314158Z",
     "start_time": "2019-04-02T06:10:21.391691Z"
    }
   },
   "outputs": [
    {
     "data": {
      "text/html": [
       "<div>\n",
       "<style scoped>\n",
       "    .dataframe tbody tr th:only-of-type {\n",
       "        vertical-align: middle;\n",
       "    }\n",
       "\n",
       "    .dataframe tbody tr th {\n",
       "        vertical-align: top;\n",
       "    }\n",
       "\n",
       "    .dataframe thead th {\n",
       "        text-align: right;\n",
       "    }\n",
       "</style>\n",
       "<table border=\"1\" class=\"dataframe\">\n",
       "  <thead>\n",
       "    <tr style=\"text-align: right;\">\n",
       "      <th></th>\n",
       "      <th>policy_code</th>\n",
       "    </tr>\n",
       "    <tr>\n",
       "      <th>date_dt</th>\n",
       "      <th></th>\n",
       "    </tr>\n",
       "  </thead>\n",
       "  <tbody>\n",
       "    <tr>\n",
       "      <th>2011-01-01</th>\n",
       "      <td>1380</td>\n",
       "    </tr>\n",
       "    <tr>\n",
       "      <th>2011-02-01</th>\n",
       "      <td>1298</td>\n",
       "    </tr>\n",
       "    <tr>\n",
       "      <th>2011-03-01</th>\n",
       "      <td>1448</td>\n",
       "    </tr>\n",
       "    <tr>\n",
       "      <th>2011-04-01</th>\n",
       "      <td>1563</td>\n",
       "    </tr>\n",
       "  </tbody>\n",
       "</table>\n",
       "</div>"
      ],
      "text/plain": [
       "            policy_code\n",
       "date_dt                \n",
       "2011-01-01         1380\n",
       "2011-02-01         1298\n",
       "2011-03-01         1448\n",
       "2011-04-01         1563"
      ]
     },
     "execution_count": 108,
     "metadata": {},
     "output_type": "execute_result"
    }
   ],
   "source": [
    "monthlyLoanApprovedDFramer(TEST_STARTDATE, TEST_ENDDATE)"
   ]
  },
  {
   "cell_type": "code",
   "execution_count": 146,
   "metadata": {
    "ExecuteTime": {
     "end_time": "2019-04-02T06:47:40.023592Z",
     "start_time": "2019-04-02T06:47:40.017594Z"
    }
   },
   "outputs": [],
   "source": [
    "def monthlyLoanRejectedDFramer(date_start,date_end):\n",
    "    \"\"\"REQUIRES START AND END DATE AS PARAMETERS, \n",
    "    RETURNS A DATAFRAME DT-DATE INDEXED GROUPED UNDER MONTHLY FREQ\n",
    "    //IGNORES DAY ON INPUT DATES AND RETURNS MONTHLY GROUPED REJECTION COUNT AS VALUES// \n",
    "    \"\"\"\n",
    "    file_path_rej = 'loan_declines.csv'\n",
    "    dataRejected = pd.read_csv(file_path_rej)\n",
    "    rejected_df1 = rejected_df1[['Policy Code','Application Date']]\n",
    "    rejected_df1 = dataRejected.groupby('Application Date').count().reset_index().dropna()\n",
    "    rejected_df1['ApplicationDate_str'] = [ str(dateApp ) for dateApp in rejected_df['Application Date'] ]\n",
    "    rejected_df1['date_dt'] = [dt.datetime.strptime(dateApp,'%m/%d/%Y') for dateApp in rejected_df['ApplicationDate_str']]\n",
    "    rejectedmini_df = rejected_df[['Policy Code','date_dt']]\n",
    "    rejectedmini_df['yearM0nth'] = rejectedmini_df['date_dt'].map(lambda dt: dt.replace(day=1))\n",
    "#     rejectedFinal_df = rejectedmini_df.groupby('yearM0nth').sum()\n",
    "    date_start_adj = adjustDatetime(date_start)\n",
    "    return rejectedFinal_df.loc[date_start_adj:date_end]"
   ]
  },
  {
   "cell_type": "code",
   "execution_count": 147,
   "metadata": {
    "ExecuteTime": {
     "end_time": "2019-04-02T06:47:42.193028Z",
     "start_time": "2019-04-02T06:47:41.322530Z"
    }
   },
   "outputs": [
    {
     "ename": "UnboundLocalError",
     "evalue": "local variable 'rejected_df1' referenced before assignment",
     "output_type": "error",
     "traceback": [
      "\u001b[1;31m---------------------------------------------------------------\u001b[0m",
      "\u001b[1;31mUnboundLocalError\u001b[0m             Traceback (most recent call last)",
      "\u001b[1;32m<ipython-input-147-5fd9d9164726>\u001b[0m in \u001b[0;36m<module>\u001b[1;34m\u001b[0m\n\u001b[1;32m----> 1\u001b[1;33m \u001b[0mmonthlyLoanRejectedDFramer\u001b[0m\u001b[1;33m(\u001b[0m\u001b[0mTEST_STARTDATE\u001b[0m\u001b[1;33m,\u001b[0m\u001b[0mTEST_ENDDATE\u001b[0m\u001b[1;33m)\u001b[0m\u001b[1;33m\u001b[0m\u001b[0m\n\u001b[0m",
      "\u001b[1;32m<ipython-input-146-cb3752dcb35b>\u001b[0m in \u001b[0;36mmonthlyLoanRejectedDFramer\u001b[1;34m(date_start, date_end)\u001b[0m\n\u001b[0;32m      6\u001b[0m     \u001b[0mfile_path_rej\u001b[0m \u001b[1;33m=\u001b[0m \u001b[1;34m'loan_declines.csv'\u001b[0m\u001b[1;33m\u001b[0m\u001b[0m\n\u001b[0;32m      7\u001b[0m     \u001b[0mdataRejected\u001b[0m \u001b[1;33m=\u001b[0m \u001b[0mpd\u001b[0m\u001b[1;33m.\u001b[0m\u001b[0mread_csv\u001b[0m\u001b[1;33m(\u001b[0m\u001b[0mfile_path_rej\u001b[0m\u001b[1;33m)\u001b[0m\u001b[1;33m\u001b[0m\u001b[0m\n\u001b[1;32m----> 8\u001b[1;33m     \u001b[0mrejected_df1\u001b[0m \u001b[1;33m=\u001b[0m \u001b[0mrejected_df1\u001b[0m\u001b[1;33m[\u001b[0m\u001b[1;33m[\u001b[0m\u001b[1;34m'Policy Code'\u001b[0m\u001b[1;33m,\u001b[0m\u001b[1;34m'Application Date'\u001b[0m\u001b[1;33m]\u001b[0m\u001b[1;33m]\u001b[0m\u001b[1;33m\u001b[0m\u001b[0m\n\u001b[0m\u001b[0;32m      9\u001b[0m     \u001b[0mrejected_df1\u001b[0m \u001b[1;33m=\u001b[0m \u001b[0mdataRejected\u001b[0m\u001b[1;33m.\u001b[0m\u001b[0mgroupby\u001b[0m\u001b[1;33m(\u001b[0m\u001b[1;34m'Application Date'\u001b[0m\u001b[1;33m)\u001b[0m\u001b[1;33m.\u001b[0m\u001b[0mcount\u001b[0m\u001b[1;33m(\u001b[0m\u001b[1;33m)\u001b[0m\u001b[1;33m.\u001b[0m\u001b[0mreset_index\u001b[0m\u001b[1;33m(\u001b[0m\u001b[1;33m)\u001b[0m\u001b[1;33m.\u001b[0m\u001b[0mdropna\u001b[0m\u001b[1;33m(\u001b[0m\u001b[1;33m)\u001b[0m\u001b[1;33m\u001b[0m\u001b[0m\n\u001b[0;32m     10\u001b[0m     \u001b[0mrejected_df1\u001b[0m\u001b[1;33m[\u001b[0m\u001b[1;34m'ApplicationDate_str'\u001b[0m\u001b[1;33m]\u001b[0m \u001b[1;33m=\u001b[0m \u001b[1;33m[\u001b[0m \u001b[0mstr\u001b[0m\u001b[1;33m(\u001b[0m\u001b[0mdateApp\u001b[0m \u001b[1;33m)\u001b[0m \u001b[1;32mfor\u001b[0m \u001b[0mdateApp\u001b[0m \u001b[1;32min\u001b[0m \u001b[0mrejected_df\u001b[0m\u001b[1;33m[\u001b[0m\u001b[1;34m'Application Date'\u001b[0m\u001b[1;33m]\u001b[0m \u001b[1;33m]\u001b[0m\u001b[1;33m\u001b[0m\u001b[0m\n",
      "\u001b[1;31mUnboundLocalError\u001b[0m: local variable 'rejected_df1' referenced before assignment"
     ]
    }
   ],
   "source": [
    "monthlyLoanRejectedDFramer(TEST_STARTDATE,TEST_ENDDATE)"
   ]
  },
  {
   "cell_type": "code",
   "execution_count": null,
   "metadata": {},
   "outputs": [],
   "source": []
  },
  {
   "cell_type": "code",
   "execution_count": null,
   "metadata": {},
   "outputs": [],
   "source": []
  }
 ],
 "metadata": {
  "kernelspec": {
   "display_name": "'Python Interactive'",
   "language": "python",
   "name": "873e935e-c604-4450-8875-223c27c8e410"
  },
  "language_info": {
   "codemirror_mode": {
    "name": "ipython",
    "version": 3
   },
   "file_extension": ".py",
   "mimetype": "text/x-python",
   "name": "python",
   "nbconvert_exporter": "python",
   "pygments_lexer": "ipython3",
   "version": "3.6.6"
  },
  "latex_envs": {
   "LaTeX_envs_menu_present": true,
   "autoclose": true,
   "autocomplete": true,
   "bibliofile": "biblio.bib",
   "cite_by": "apalike",
   "current_citInitial": 1,
   "eqLabelWithNumbers": false,
   "eqNumInitial": 1,
   "hotkeys": {
    "equation": "Ctrl-E",
    "itemize": "Ctrl-I"
   },
   "labels_anchors": false,
   "latex_user_defs": false,
   "report_style_numbering": false,
   "user_envs_cfg": false
  },
  "varInspector": {
   "cols": {
    "lenName": 16,
    "lenType": 16,
    "lenVar": 40
   },
   "kernels_config": {
    "python": {
     "delete_cmd_postfix": "",
     "delete_cmd_prefix": "del ",
     "library": "var_list.py",
     "varRefreshCmd": "print(var_dic_list())"
    },
    "r": {
     "delete_cmd_postfix": ") ",
     "delete_cmd_prefix": "rm(",
     "library": "var_list.r",
     "varRefreshCmd": "cat(var_dic_list()) "
    }
   },
   "types_to_exclude": [
    "module",
    "function",
    "builtin_function_or_method",
    "instance",
    "_Feature"
   ],
   "window_display": false
  }
 },
 "nbformat": 4,
 "nbformat_minor": 2
}
